{
  "nbformat": 4,
  "nbformat_minor": 0,
  "metadata": {
    "colab": {
      "provenance": [],
      "gpuType": "T4"
    },
    "kernelspec": {
      "name": "python3",
      "display_name": "Python 3"
    },
    "language_info": {
      "name": "python"
    },
    "accelerator": "GPU"
  },
  "cells": [
    {
      "cell_type": "markdown",
      "source": [
        "# **MyUMKM Chatbot ( Long Short Term Memory Algorithm )**\n"
      ],
      "metadata": {
        "id": "lt8cJBvWMqpU"
      }
    },
    {
      "cell_type": "markdown",
      "source": [
        "According to S. Sannikova (2018), a **chatbot** is a computer program that simulates human conversation or chatting through artificial intelligence."
      ],
      "metadata": {
        "id": "lAixWDPKM7Qc"
      }
    },
    {
      "cell_type": "markdown",
      "source": [
        "**Stages of Chatbot Creation** :\n",
        "\n",
        "1.   Importing Libraries\n",
        "2.   Loading Dataset\n",
        "3.   Data Processing\n",
        "4.   Formulating Input Length, Output Length, and Vocabulary\n",
        "5.   Creating LSTM Model\n",
        "6.   Evaluating the Model\n",
        "7.   Testing the Chatbot\n",
        "8.   Saving the Model\n",
        "\n"
      ],
      "metadata": {
        "id": "tHzisKirPGFR"
      }
    },
    {
      "cell_type": "markdown",
      "source": [
        "**Download Dataset From G-Drive**"
      ],
      "metadata": {
        "id": "s-Q7I1cX_E2X"
      }
    },
    {
      "cell_type": "code",
      "source": [
        "!gdown 15C2vMl_hqhc7jWAonHwmr5zW00c2WIrM #download dataset"
      ],
      "metadata": {
        "colab": {
          "base_uri": "https://localhost:8080/"
        },
        "id": "uKBIBeYd-tij",
        "outputId": "70a1f9f3-a9e2-4c22-b926-c30e93c50307"
      },
      "execution_count": 1,
      "outputs": [
        {
          "output_type": "stream",
          "name": "stdout",
          "text": [
            "Downloading...\n",
            "From: https://drive.google.com/uc?id=15C2vMl_hqhc7jWAonHwmr5zW00c2WIrM\n",
            "To: /content/umkm.json\n",
            "\r  0% 0.00/1.04M [00:00<?, ?B/s]\r100% 1.04M/1.04M [00:00<00:00, 29.0MB/s]\n"
          ]
        }
      ]
    },
    {
      "cell_type": "markdown",
      "source": [
        "**The first step in creating chatbot features is to import all the libraries that will be used.**"
      ],
      "metadata": {
        "id": "csMY_39T8gBX"
      }
    },
    {
      "cell_type": "code",
      "source": [
        "# Import libraries and modules\n",
        "\n",
        "# JSON is used for working with JSON data\n",
        "import json  # (Functions: load, dump, loads, dumps)\n",
        "\n",
        "# NLTK (Natural Language Toolkit) is used for natural language processing\n",
        "import nltk  # (Functions: download, stem, lemmatize, tokenize, etc.)\n",
        "from nltk.stem import WordNetLemmatizer\n",
        "\n",
        "# The time module is used for time management\n",
        "import time  # (Functions: time, sleep, etc.)\n",
        "\n",
        "# The random module is used for generating random numbers\n",
        "import random  # (Functions: random, shuffle, choice, etc.)\n",
        "\n",
        "# The string module contains string processing functions\n",
        "import string  # (Functions: punctuation, ascii_letters, digits, etc.)\n",
        "\n",
        "# The pickle module is used for object serialization in Python\n",
        "import pickle  # (Functions: dump, load, dumps, loads, etc.)\n",
        "\n",
        "# NumPy is a library for numerical computations using arrays\n",
        "import numpy as np\n",
        "\n",
        "# Pandas is used for data analysis and manipulation\n",
        "import pandas as pd  # (Functions: DataFrame, read_csv, read_json, etc.)\n",
        "\n",
        "# BytesIO provides a byte buffer in memory\n",
        "from io import BytesIO\n",
        "\n",
        "# TensorFlow is a machine learning and artificial intelligence library\n",
        "import tensorflow as tf  # (Functions: keras, constant, Session, etc.)\n",
        "\n",
        "# IPython.display is used for displaying objects in IPython\n",
        "import IPython.display as ipd  # (Functions: Audio, Image, HTML, display, etc.)\n",
        "\n",
        "# Matplotlib is used for creating visualization plots\n",
        "import matplotlib.pyplot as plt  # (Functions: plot, show, xlabel, ylabel, etc.)\n",
        "\n",
        "# Specific Keras functions\n",
        "from tensorflow.keras.models import Model\n",
        "from tensorflow.keras.utils import plot_model\n",
        "from tensorflow.keras.preprocessing.text import Tokenizer\n",
        "from tensorflow.keras.preprocessing.sequence import pad_sequences\n",
        "from tensorflow.keras.layers import Input, Embedding, LSTM, Flatten, Dense, GlobalMaxPool1D\n",
        "\n",
        "# LabelEncoder is used to encode class labels\n",
        "from sklearn.preprocessing import LabelEncoder\n",
        "\n",
        "# Module for splitting training and test data\n",
        "from sklearn.model_selection import train_test_split\n"
      ],
      "metadata": {
        "id": "jNcPNlg5QcuT"
      },
      "execution_count": 2,
      "outputs": []
    },
    {
      "cell_type": "markdown",
      "source": [
        "**Download NLTK Package**"
      ],
      "metadata": {
        "id": "_WdHwTdBLNOS"
      }
    },
    {
      "cell_type": "code",
      "source": [
        "# Package for sentence tokenizer\n",
        "nltk.download('punkt')  # Download the Punkt tokenizer models\n",
        "\n",
        "# Package for lemmatization\n",
        "nltk.download('wordnet')  # Download WordNet lexical database for lemmatization\n",
        "\n",
        "# Package for multilingual WordNet data\n",
        "nltk.download('omw-1.4')  # Download the Open Multilingual Wordnet data\n"
      ],
      "metadata": {
        "colab": {
          "base_uri": "https://localhost:8080/"
        },
        "id": "iFin58jRQfhk",
        "outputId": "26f49590-bea5-4806-d574-ff8e262816c3"
      },
      "execution_count": 3,
      "outputs": [
        {
          "output_type": "stream",
          "name": "stderr",
          "text": [
            "[nltk_data] Downloading package punkt to /root/nltk_data...\n",
            "[nltk_data]   Unzipping tokenizers/punkt.zip.\n",
            "[nltk_data] Downloading package wordnet to /root/nltk_data...\n",
            "[nltk_data] Downloading package omw-1.4 to /root/nltk_data...\n"
          ]
        },
        {
          "output_type": "execute_result",
          "data": {
            "text/plain": [
              "True"
            ]
          },
          "metadata": {},
          "execution_count": 3
        }
      ]
    },
    {
      "cell_type": "markdown",
      "source": [
        "**Load Dataset JSON**"
      ],
      "metadata": {
        "id": "H6iZkXfRLZOe"
      }
    },
    {
      "cell_type": "markdown",
      "source": [
        "After importing the libraries, the next step is to load the provided dataset. The dataset is in the **.json** format, which is well-suited for creating a Chatbot model.\n",
        "\n",
        "JSON data is considered semi-structured, containing various parts such as **tag**, **pattern**, **context**, and **response**."
      ],
      "metadata": {
        "id": "1qlMAZjhLtgE"
      }
    },
    {
      "cell_type": "code",
      "source": [
        "# Importing the dataset from a JSON file named 'umkm.json'\n",
        "with open('umkm.json') as content:\n",
        "    dataset = json.load(content)"
      ],
      "metadata": {
        "id": "FOE5405FRk4Y"
      },
      "execution_count": 4,
      "outputs": []
    },
    {
      "cell_type": "code",
      "source": [
        "# Getting all data into lists\n",
        "tags = []  # Data tags\n",
        "inputs = []  # Data inputs or patterns\n",
        "responses = {}  # Data responses\n",
        "words = []  # Data words\n",
        "classes = []  # Data classes or tags\n",
        "documents = []  # Data document sentences\n",
        "ignore_words = ['?', '!']  # Ignore special characters\n",
        "# Add intents data from JSON\n",
        "for intent in dataset['intents']:\n",
        "    responses[intent['tag']] = intent['responses']\n",
        "    for lines in intent['patterns']:\n",
        "        inputs.append(lines)\n",
        "        tags.append(intent['tag'])\n",
        "        # Used for patterns or text questions in JSON\n",
        "        for pattern in intent['patterns']:\n",
        "            w = nltk.word_tokenize(pattern)\n",
        "            words.extend(w)\n",
        "            documents.append((w, intent['tag']))\n",
        "            # Add to the list of classes in the data\n",
        "            if intent['tag'] not in classes:\n",
        "                classes.append(intent['tag'])\n",
        "\n",
        "# Convert JSON data to a DataFrame\n",
        "data = pd.DataFrame({\"patterns\": inputs, \"tags\": tags})"
      ],
      "metadata": {
        "id": "CYncsE5JRmqh"
      },
      "execution_count": 5,
      "outputs": []
    },
    {
      "cell_type": "code",
      "source": [
        "# Print the first five rows of the dataset\n",
        "data.head()"
      ],
      "metadata": {
        "colab": {
          "base_uri": "https://localhost:8080/",
          "height": 206
        },
        "id": "-cADTK4XMBtL",
        "outputId": "1a8fc39e-9d8e-4f75-dc33-3f87c6cba3a2"
      },
      "execution_count": 6,
      "outputs": [
        {
          "output_type": "execute_result",
          "data": {
            "text/plain": [
              "  patterns      tags\n",
              "0    hallo  Greeting\n",
              "1      hai  Greeting\n",
              "2     halo  Greeting\n",
              "3      hei  Greeting\n",
              "4       hi  Greeting"
            ],
            "text/html": [
              "\n",
              "  <div id=\"df-d61216ba-e099-4281-bb87-e835cf11d137\" class=\"colab-df-container\">\n",
              "    <div>\n",
              "<style scoped>\n",
              "    .dataframe tbody tr th:only-of-type {\n",
              "        vertical-align: middle;\n",
              "    }\n",
              "\n",
              "    .dataframe tbody tr th {\n",
              "        vertical-align: top;\n",
              "    }\n",
              "\n",
              "    .dataframe thead th {\n",
              "        text-align: right;\n",
              "    }\n",
              "</style>\n",
              "<table border=\"1\" class=\"dataframe\">\n",
              "  <thead>\n",
              "    <tr style=\"text-align: right;\">\n",
              "      <th></th>\n",
              "      <th>patterns</th>\n",
              "      <th>tags</th>\n",
              "    </tr>\n",
              "  </thead>\n",
              "  <tbody>\n",
              "    <tr>\n",
              "      <th>0</th>\n",
              "      <td>hallo</td>\n",
              "      <td>Greeting</td>\n",
              "    </tr>\n",
              "    <tr>\n",
              "      <th>1</th>\n",
              "      <td>hai</td>\n",
              "      <td>Greeting</td>\n",
              "    </tr>\n",
              "    <tr>\n",
              "      <th>2</th>\n",
              "      <td>halo</td>\n",
              "      <td>Greeting</td>\n",
              "    </tr>\n",
              "    <tr>\n",
              "      <th>3</th>\n",
              "      <td>hei</td>\n",
              "      <td>Greeting</td>\n",
              "    </tr>\n",
              "    <tr>\n",
              "      <th>4</th>\n",
              "      <td>hi</td>\n",
              "      <td>Greeting</td>\n",
              "    </tr>\n",
              "  </tbody>\n",
              "</table>\n",
              "</div>\n",
              "    <div class=\"colab-df-buttons\">\n",
              "\n",
              "  <div class=\"colab-df-container\">\n",
              "    <button class=\"colab-df-convert\" onclick=\"convertToInteractive('df-d61216ba-e099-4281-bb87-e835cf11d137')\"\n",
              "            title=\"Convert this dataframe to an interactive table.\"\n",
              "            style=\"display:none;\">\n",
              "\n",
              "  <svg xmlns=\"http://www.w3.org/2000/svg\" height=\"24px\" viewBox=\"0 -960 960 960\">\n",
              "    <path d=\"M120-120v-720h720v720H120Zm60-500h600v-160H180v160Zm220 220h160v-160H400v160Zm0 220h160v-160H400v160ZM180-400h160v-160H180v160Zm440 0h160v-160H620v160ZM180-180h160v-160H180v160Zm440 0h160v-160H620v160Z\"/>\n",
              "  </svg>\n",
              "    </button>\n",
              "\n",
              "  <style>\n",
              "    .colab-df-container {\n",
              "      display:flex;\n",
              "      gap: 12px;\n",
              "    }\n",
              "\n",
              "    .colab-df-convert {\n",
              "      background-color: #E8F0FE;\n",
              "      border: none;\n",
              "      border-radius: 50%;\n",
              "      cursor: pointer;\n",
              "      display: none;\n",
              "      fill: #1967D2;\n",
              "      height: 32px;\n",
              "      padding: 0 0 0 0;\n",
              "      width: 32px;\n",
              "    }\n",
              "\n",
              "    .colab-df-convert:hover {\n",
              "      background-color: #E2EBFA;\n",
              "      box-shadow: 0px 1px 2px rgba(60, 64, 67, 0.3), 0px 1px 3px 1px rgba(60, 64, 67, 0.15);\n",
              "      fill: #174EA6;\n",
              "    }\n",
              "\n",
              "    .colab-df-buttons div {\n",
              "      margin-bottom: 4px;\n",
              "    }\n",
              "\n",
              "    [theme=dark] .colab-df-convert {\n",
              "      background-color: #3B4455;\n",
              "      fill: #D2E3FC;\n",
              "    }\n",
              "\n",
              "    [theme=dark] .colab-df-convert:hover {\n",
              "      background-color: #434B5C;\n",
              "      box-shadow: 0px 1px 3px 1px rgba(0, 0, 0, 0.15);\n",
              "      filter: drop-shadow(0px 1px 2px rgba(0, 0, 0, 0.3));\n",
              "      fill: #FFFFFF;\n",
              "    }\n",
              "  </style>\n",
              "\n",
              "    <script>\n",
              "      const buttonEl =\n",
              "        document.querySelector('#df-d61216ba-e099-4281-bb87-e835cf11d137 button.colab-df-convert');\n",
              "      buttonEl.style.display =\n",
              "        google.colab.kernel.accessAllowed ? 'block' : 'none';\n",
              "\n",
              "      async function convertToInteractive(key) {\n",
              "        const element = document.querySelector('#df-d61216ba-e099-4281-bb87-e835cf11d137');\n",
              "        const dataTable =\n",
              "          await google.colab.kernel.invokeFunction('convertToInteractive',\n",
              "                                                    [key], {});\n",
              "        if (!dataTable) return;\n",
              "\n",
              "        const docLinkHtml = 'Like what you see? Visit the ' +\n",
              "          '<a target=\"_blank\" href=https://colab.research.google.com/notebooks/data_table.ipynb>data table notebook</a>'\n",
              "          + ' to learn more about interactive tables.';\n",
              "        element.innerHTML = '';\n",
              "        dataTable['output_type'] = 'display_data';\n",
              "        await google.colab.output.renderOutput(dataTable, element);\n",
              "        const docLink = document.createElement('div');\n",
              "        docLink.innerHTML = docLinkHtml;\n",
              "        element.appendChild(docLink);\n",
              "      }\n",
              "    </script>\n",
              "  </div>\n",
              "\n",
              "\n",
              "<div id=\"df-d6040fd6-8ba9-48d7-b35b-783deb709457\">\n",
              "  <button class=\"colab-df-quickchart\" onclick=\"quickchart('df-d6040fd6-8ba9-48d7-b35b-783deb709457')\"\n",
              "            title=\"Suggest charts\"\n",
              "            style=\"display:none;\">\n",
              "\n",
              "<svg xmlns=\"http://www.w3.org/2000/svg\" height=\"24px\"viewBox=\"0 0 24 24\"\n",
              "     width=\"24px\">\n",
              "    <g>\n",
              "        <path d=\"M19 3H5c-1.1 0-2 .9-2 2v14c0 1.1.9 2 2 2h14c1.1 0 2-.9 2-2V5c0-1.1-.9-2-2-2zM9 17H7v-7h2v7zm4 0h-2V7h2v10zm4 0h-2v-4h2v4z\"/>\n",
              "    </g>\n",
              "</svg>\n",
              "  </button>\n",
              "\n",
              "<style>\n",
              "  .colab-df-quickchart {\n",
              "      --bg-color: #E8F0FE;\n",
              "      --fill-color: #1967D2;\n",
              "      --hover-bg-color: #E2EBFA;\n",
              "      --hover-fill-color: #174EA6;\n",
              "      --disabled-fill-color: #AAA;\n",
              "      --disabled-bg-color: #DDD;\n",
              "  }\n",
              "\n",
              "  [theme=dark] .colab-df-quickchart {\n",
              "      --bg-color: #3B4455;\n",
              "      --fill-color: #D2E3FC;\n",
              "      --hover-bg-color: #434B5C;\n",
              "      --hover-fill-color: #FFFFFF;\n",
              "      --disabled-bg-color: #3B4455;\n",
              "      --disabled-fill-color: #666;\n",
              "  }\n",
              "\n",
              "  .colab-df-quickchart {\n",
              "    background-color: var(--bg-color);\n",
              "    border: none;\n",
              "    border-radius: 50%;\n",
              "    cursor: pointer;\n",
              "    display: none;\n",
              "    fill: var(--fill-color);\n",
              "    height: 32px;\n",
              "    padding: 0;\n",
              "    width: 32px;\n",
              "  }\n",
              "\n",
              "  .colab-df-quickchart:hover {\n",
              "    background-color: var(--hover-bg-color);\n",
              "    box-shadow: 0 1px 2px rgba(60, 64, 67, 0.3), 0 1px 3px 1px rgba(60, 64, 67, 0.15);\n",
              "    fill: var(--button-hover-fill-color);\n",
              "  }\n",
              "\n",
              "  .colab-df-quickchart-complete:disabled,\n",
              "  .colab-df-quickchart-complete:disabled:hover {\n",
              "    background-color: var(--disabled-bg-color);\n",
              "    fill: var(--disabled-fill-color);\n",
              "    box-shadow: none;\n",
              "  }\n",
              "\n",
              "  .colab-df-spinner {\n",
              "    border: 2px solid var(--fill-color);\n",
              "    border-color: transparent;\n",
              "    border-bottom-color: var(--fill-color);\n",
              "    animation:\n",
              "      spin 1s steps(1) infinite;\n",
              "  }\n",
              "\n",
              "  @keyframes spin {\n",
              "    0% {\n",
              "      border-color: transparent;\n",
              "      border-bottom-color: var(--fill-color);\n",
              "      border-left-color: var(--fill-color);\n",
              "    }\n",
              "    20% {\n",
              "      border-color: transparent;\n",
              "      border-left-color: var(--fill-color);\n",
              "      border-top-color: var(--fill-color);\n",
              "    }\n",
              "    30% {\n",
              "      border-color: transparent;\n",
              "      border-left-color: var(--fill-color);\n",
              "      border-top-color: var(--fill-color);\n",
              "      border-right-color: var(--fill-color);\n",
              "    }\n",
              "    40% {\n",
              "      border-color: transparent;\n",
              "      border-right-color: var(--fill-color);\n",
              "      border-top-color: var(--fill-color);\n",
              "    }\n",
              "    60% {\n",
              "      border-color: transparent;\n",
              "      border-right-color: var(--fill-color);\n",
              "    }\n",
              "    80% {\n",
              "      border-color: transparent;\n",
              "      border-right-color: var(--fill-color);\n",
              "      border-bottom-color: var(--fill-color);\n",
              "    }\n",
              "    90% {\n",
              "      border-color: transparent;\n",
              "      border-bottom-color: var(--fill-color);\n",
              "    }\n",
              "  }\n",
              "</style>\n",
              "\n",
              "  <script>\n",
              "    async function quickchart(key) {\n",
              "      const quickchartButtonEl =\n",
              "        document.querySelector('#' + key + ' button');\n",
              "      quickchartButtonEl.disabled = true;  // To prevent multiple clicks.\n",
              "      quickchartButtonEl.classList.add('colab-df-spinner');\n",
              "      try {\n",
              "        const charts = await google.colab.kernel.invokeFunction(\n",
              "            'suggestCharts', [key], {});\n",
              "      } catch (error) {\n",
              "        console.error('Error during call to suggestCharts:', error);\n",
              "      }\n",
              "      quickchartButtonEl.classList.remove('colab-df-spinner');\n",
              "      quickchartButtonEl.classList.add('colab-df-quickchart-complete');\n",
              "    }\n",
              "    (() => {\n",
              "      let quickchartButtonEl =\n",
              "        document.querySelector('#df-d6040fd6-8ba9-48d7-b35b-783deb709457 button');\n",
              "      quickchartButtonEl.style.display =\n",
              "        google.colab.kernel.accessAllowed ? 'block' : 'none';\n",
              "    })();\n",
              "  </script>\n",
              "</div>\n",
              "    </div>\n",
              "  </div>\n"
            ]
          },
          "metadata": {},
          "execution_count": 6
        }
      ]
    },
    {
      "cell_type": "code",
      "source": [
        "# Print the last five rows of the dataset\n",
        "data.tail()"
      ],
      "metadata": {
        "colab": {
          "base_uri": "https://localhost:8080/",
          "height": 206
        },
        "id": "Fw9ttjtZMPpx",
        "outputId": "7be0f140-2d5b-4a34-90d6-64523a4cb5d1"
      },
      "execution_count": 7,
      "outputs": [
        {
          "output_type": "execute_result",
          "data": {
            "text/plain": [
              "                                      patterns      tags\n",
              "3980        Bagaimana cara mengisi Saldo DANA?  Danatg14\n",
              "3981               Bagaimana cara top up DANA?  Danatg14\n",
              "3982      Bagaimana cara uang ke pengguna Dana  Danatg15\n",
              "3983  Bagaimana cara transfer ke pengguna Dana  Danatg15\n",
              "3984  Cara transfer ke user pengguna lain Dana  Danatg15"
            ],
            "text/html": [
              "\n",
              "  <div id=\"df-6d1670c7-bc9d-4edd-b1ac-4032688a2590\" class=\"colab-df-container\">\n",
              "    <div>\n",
              "<style scoped>\n",
              "    .dataframe tbody tr th:only-of-type {\n",
              "        vertical-align: middle;\n",
              "    }\n",
              "\n",
              "    .dataframe tbody tr th {\n",
              "        vertical-align: top;\n",
              "    }\n",
              "\n",
              "    .dataframe thead th {\n",
              "        text-align: right;\n",
              "    }\n",
              "</style>\n",
              "<table border=\"1\" class=\"dataframe\">\n",
              "  <thead>\n",
              "    <tr style=\"text-align: right;\">\n",
              "      <th></th>\n",
              "      <th>patterns</th>\n",
              "      <th>tags</th>\n",
              "    </tr>\n",
              "  </thead>\n",
              "  <tbody>\n",
              "    <tr>\n",
              "      <th>3980</th>\n",
              "      <td>Bagaimana cara mengisi Saldo DANA?</td>\n",
              "      <td>Danatg14</td>\n",
              "    </tr>\n",
              "    <tr>\n",
              "      <th>3981</th>\n",
              "      <td>Bagaimana cara top up DANA?</td>\n",
              "      <td>Danatg14</td>\n",
              "    </tr>\n",
              "    <tr>\n",
              "      <th>3982</th>\n",
              "      <td>Bagaimana cara uang ke pengguna Dana</td>\n",
              "      <td>Danatg15</td>\n",
              "    </tr>\n",
              "    <tr>\n",
              "      <th>3983</th>\n",
              "      <td>Bagaimana cara transfer ke pengguna Dana</td>\n",
              "      <td>Danatg15</td>\n",
              "    </tr>\n",
              "    <tr>\n",
              "      <th>3984</th>\n",
              "      <td>Cara transfer ke user pengguna lain Dana</td>\n",
              "      <td>Danatg15</td>\n",
              "    </tr>\n",
              "  </tbody>\n",
              "</table>\n",
              "</div>\n",
              "    <div class=\"colab-df-buttons\">\n",
              "\n",
              "  <div class=\"colab-df-container\">\n",
              "    <button class=\"colab-df-convert\" onclick=\"convertToInteractive('df-6d1670c7-bc9d-4edd-b1ac-4032688a2590')\"\n",
              "            title=\"Convert this dataframe to an interactive table.\"\n",
              "            style=\"display:none;\">\n",
              "\n",
              "  <svg xmlns=\"http://www.w3.org/2000/svg\" height=\"24px\" viewBox=\"0 -960 960 960\">\n",
              "    <path d=\"M120-120v-720h720v720H120Zm60-500h600v-160H180v160Zm220 220h160v-160H400v160Zm0 220h160v-160H400v160ZM180-400h160v-160H180v160Zm440 0h160v-160H620v160ZM180-180h160v-160H180v160Zm440 0h160v-160H620v160Z\"/>\n",
              "  </svg>\n",
              "    </button>\n",
              "\n",
              "  <style>\n",
              "    .colab-df-container {\n",
              "      display:flex;\n",
              "      gap: 12px;\n",
              "    }\n",
              "\n",
              "    .colab-df-convert {\n",
              "      background-color: #E8F0FE;\n",
              "      border: none;\n",
              "      border-radius: 50%;\n",
              "      cursor: pointer;\n",
              "      display: none;\n",
              "      fill: #1967D2;\n",
              "      height: 32px;\n",
              "      padding: 0 0 0 0;\n",
              "      width: 32px;\n",
              "    }\n",
              "\n",
              "    .colab-df-convert:hover {\n",
              "      background-color: #E2EBFA;\n",
              "      box-shadow: 0px 1px 2px rgba(60, 64, 67, 0.3), 0px 1px 3px 1px rgba(60, 64, 67, 0.15);\n",
              "      fill: #174EA6;\n",
              "    }\n",
              "\n",
              "    .colab-df-buttons div {\n",
              "      margin-bottom: 4px;\n",
              "    }\n",
              "\n",
              "    [theme=dark] .colab-df-convert {\n",
              "      background-color: #3B4455;\n",
              "      fill: #D2E3FC;\n",
              "    }\n",
              "\n",
              "    [theme=dark] .colab-df-convert:hover {\n",
              "      background-color: #434B5C;\n",
              "      box-shadow: 0px 1px 3px 1px rgba(0, 0, 0, 0.15);\n",
              "      filter: drop-shadow(0px 1px 2px rgba(0, 0, 0, 0.3));\n",
              "      fill: #FFFFFF;\n",
              "    }\n",
              "  </style>\n",
              "\n",
              "    <script>\n",
              "      const buttonEl =\n",
              "        document.querySelector('#df-6d1670c7-bc9d-4edd-b1ac-4032688a2590 button.colab-df-convert');\n",
              "      buttonEl.style.display =\n",
              "        google.colab.kernel.accessAllowed ? 'block' : 'none';\n",
              "\n",
              "      async function convertToInteractive(key) {\n",
              "        const element = document.querySelector('#df-6d1670c7-bc9d-4edd-b1ac-4032688a2590');\n",
              "        const dataTable =\n",
              "          await google.colab.kernel.invokeFunction('convertToInteractive',\n",
              "                                                    [key], {});\n",
              "        if (!dataTable) return;\n",
              "\n",
              "        const docLinkHtml = 'Like what you see? Visit the ' +\n",
              "          '<a target=\"_blank\" href=https://colab.research.google.com/notebooks/data_table.ipynb>data table notebook</a>'\n",
              "          + ' to learn more about interactive tables.';\n",
              "        element.innerHTML = '';\n",
              "        dataTable['output_type'] = 'display_data';\n",
              "        await google.colab.output.renderOutput(dataTable, element);\n",
              "        const docLink = document.createElement('div');\n",
              "        docLink.innerHTML = docLinkHtml;\n",
              "        element.appendChild(docLink);\n",
              "      }\n",
              "    </script>\n",
              "  </div>\n",
              "\n",
              "\n",
              "<div id=\"df-8c74bc5a-e6d6-4bcf-bed7-d6c551020b76\">\n",
              "  <button class=\"colab-df-quickchart\" onclick=\"quickchart('df-8c74bc5a-e6d6-4bcf-bed7-d6c551020b76')\"\n",
              "            title=\"Suggest charts\"\n",
              "            style=\"display:none;\">\n",
              "\n",
              "<svg xmlns=\"http://www.w3.org/2000/svg\" height=\"24px\"viewBox=\"0 0 24 24\"\n",
              "     width=\"24px\">\n",
              "    <g>\n",
              "        <path d=\"M19 3H5c-1.1 0-2 .9-2 2v14c0 1.1.9 2 2 2h14c1.1 0 2-.9 2-2V5c0-1.1-.9-2-2-2zM9 17H7v-7h2v7zm4 0h-2V7h2v10zm4 0h-2v-4h2v4z\"/>\n",
              "    </g>\n",
              "</svg>\n",
              "  </button>\n",
              "\n",
              "<style>\n",
              "  .colab-df-quickchart {\n",
              "      --bg-color: #E8F0FE;\n",
              "      --fill-color: #1967D2;\n",
              "      --hover-bg-color: #E2EBFA;\n",
              "      --hover-fill-color: #174EA6;\n",
              "      --disabled-fill-color: #AAA;\n",
              "      --disabled-bg-color: #DDD;\n",
              "  }\n",
              "\n",
              "  [theme=dark] .colab-df-quickchart {\n",
              "      --bg-color: #3B4455;\n",
              "      --fill-color: #D2E3FC;\n",
              "      --hover-bg-color: #434B5C;\n",
              "      --hover-fill-color: #FFFFFF;\n",
              "      --disabled-bg-color: #3B4455;\n",
              "      --disabled-fill-color: #666;\n",
              "  }\n",
              "\n",
              "  .colab-df-quickchart {\n",
              "    background-color: var(--bg-color);\n",
              "    border: none;\n",
              "    border-radius: 50%;\n",
              "    cursor: pointer;\n",
              "    display: none;\n",
              "    fill: var(--fill-color);\n",
              "    height: 32px;\n",
              "    padding: 0;\n",
              "    width: 32px;\n",
              "  }\n",
              "\n",
              "  .colab-df-quickchart:hover {\n",
              "    background-color: var(--hover-bg-color);\n",
              "    box-shadow: 0 1px 2px rgba(60, 64, 67, 0.3), 0 1px 3px 1px rgba(60, 64, 67, 0.15);\n",
              "    fill: var(--button-hover-fill-color);\n",
              "  }\n",
              "\n",
              "  .colab-df-quickchart-complete:disabled,\n",
              "  .colab-df-quickchart-complete:disabled:hover {\n",
              "    background-color: var(--disabled-bg-color);\n",
              "    fill: var(--disabled-fill-color);\n",
              "    box-shadow: none;\n",
              "  }\n",
              "\n",
              "  .colab-df-spinner {\n",
              "    border: 2px solid var(--fill-color);\n",
              "    border-color: transparent;\n",
              "    border-bottom-color: var(--fill-color);\n",
              "    animation:\n",
              "      spin 1s steps(1) infinite;\n",
              "  }\n",
              "\n",
              "  @keyframes spin {\n",
              "    0% {\n",
              "      border-color: transparent;\n",
              "      border-bottom-color: var(--fill-color);\n",
              "      border-left-color: var(--fill-color);\n",
              "    }\n",
              "    20% {\n",
              "      border-color: transparent;\n",
              "      border-left-color: var(--fill-color);\n",
              "      border-top-color: var(--fill-color);\n",
              "    }\n",
              "    30% {\n",
              "      border-color: transparent;\n",
              "      border-left-color: var(--fill-color);\n",
              "      border-top-color: var(--fill-color);\n",
              "      border-right-color: var(--fill-color);\n",
              "    }\n",
              "    40% {\n",
              "      border-color: transparent;\n",
              "      border-right-color: var(--fill-color);\n",
              "      border-top-color: var(--fill-color);\n",
              "    }\n",
              "    60% {\n",
              "      border-color: transparent;\n",
              "      border-right-color: var(--fill-color);\n",
              "    }\n",
              "    80% {\n",
              "      border-color: transparent;\n",
              "      border-right-color: var(--fill-color);\n",
              "      border-bottom-color: var(--fill-color);\n",
              "    }\n",
              "    90% {\n",
              "      border-color: transparent;\n",
              "      border-bottom-color: var(--fill-color);\n",
              "    }\n",
              "  }\n",
              "</style>\n",
              "\n",
              "  <script>\n",
              "    async function quickchart(key) {\n",
              "      const quickchartButtonEl =\n",
              "        document.querySelector('#' + key + ' button');\n",
              "      quickchartButtonEl.disabled = true;  // To prevent multiple clicks.\n",
              "      quickchartButtonEl.classList.add('colab-df-spinner');\n",
              "      try {\n",
              "        const charts = await google.colab.kernel.invokeFunction(\n",
              "            'suggestCharts', [key], {});\n",
              "      } catch (error) {\n",
              "        console.error('Error during call to suggestCharts:', error);\n",
              "      }\n",
              "      quickchartButtonEl.classList.remove('colab-df-spinner');\n",
              "      quickchartButtonEl.classList.add('colab-df-quickchart-complete');\n",
              "    }\n",
              "    (() => {\n",
              "      let quickchartButtonEl =\n",
              "        document.querySelector('#df-8c74bc5a-e6d6-4bcf-bed7-d6c551020b76 button');\n",
              "      quickchartButtonEl.style.display =\n",
              "        google.colab.kernel.accessAllowed ? 'block' : 'none';\n",
              "    })();\n",
              "  </script>\n",
              "</div>\n",
              "    </div>\n",
              "  </div>\n"
            ]
          },
          "metadata": {},
          "execution_count": 7
        }
      ]
    },
    {
      "cell_type": "markdown",
      "source": [
        "# **Processing The Data**"
      ],
      "metadata": {
        "id": "g8WRvIUFMtfm"
      }
    },
    {
      "cell_type": "markdown",
      "source": [
        "1.   Remove Punctuations\n",
        "2.   Lematization\n",
        "3.   Tokenization\n",
        "4.   Apply Padding\n",
        "5.   Encoding the Outputs"
      ],
      "metadata": {
        "id": "pjusmhjXM0Nk"
      }
    },
    {
      "cell_type": "markdown",
      "source": [
        "**Remove Punctuations**"
      ],
      "metadata": {
        "id": "vOjvHPgcNHcW"
      }
    },
    {
      "cell_type": "markdown",
      "source": [
        "The first step in the text data preprocessing is to remove punctuation or special characters such as **'!'** (exclamation mark), **','** (comma), **'.'** (period/stop), **'?'** (question mark), and other punctuation marks. This step is essential to facilitate the processing of the text data we are going to analyze."
      ],
      "metadata": {
        "id": "e44W37eiNOP-"
      }
    },
    {
      "cell_type": "code",
      "source": [
        "# Removing Punctuations\n",
        "data['patterns'] = data['patterns'].apply(lambda wrd: [ltrs.lower() for ltrs in wrd if ltrs not in string.punctuation])\n",
        "data['patterns'] = data['patterns'].apply(lambda wrd: ''.join(wrd))"
      ],
      "metadata": {
        "id": "VtiukuslRvKd"
      },
      "execution_count": 8,
      "outputs": []
    },
    {
      "cell_type": "markdown",
      "source": [
        "**Lemmatization**"
      ],
      "metadata": {
        "id": "AW4WZWdgNiD4"
      }
    },
    {
      "cell_type": "markdown",
      "source": [
        "After removing punctuation or special characters, the next step is lemmatization.\n",
        "\n",
        "**What is Lemmatization?**\n",
        "\n",
        "Lemmatization is a process that involves using vocabulary and morphological analysis of words to remove only inflectional endings and return the base form (dictionary form) of a word known as the **lemma.**"
      ],
      "metadata": {
        "id": "LV5q9zuPNtbi"
      }
    },
    {
      "cell_type": "code",
      "source": [
        "# Lemmatization using WordNetLemmatizer\n",
        "lemmatizer = WordNetLemmatizer()\n",
        "words = [lemmatizer.lemmatize(w.lower()) for w in words if w not in ignore_words]\n",
        "words = sorted(list(set(words)))\n",
        "\n",
        "# Print the number of unique lemmatized words and the words themselves\n",
        "print(len(words), \"unique lemmatized words\", words)\n"
      ],
      "metadata": {
        "id": "s0qIUg-0Rwzi",
        "colab": {
          "base_uri": "https://localhost:8080/"
        },
        "outputId": "7cbf99f7-3d59-478b-eac5-30ad4f3047e6"
      },
      "execution_count": 9,
      "outputs": [
        {
          "output_type": "stream",
          "name": "stdout",
          "text": [
            "1833 unique lemmatized words ['%', \"'\", \"''\", \"'aparat\", \"'audit\", \"'bagi\", \"'bea\", \"'evaluasi\", \"'integrasi\", \"'kebijakan\", \"'kegiatan\", \"'kemudahan\", \"'kemungkinan\", \"'kesederhanaan\", \"'ketentuan\", \"'kewenangan\", \"'kolaborasi\", \"'komponen\", \"'koordinasi\", \"'koperasi\", \"'kriteria\", \"'lembaga\", \"'manfaat\", \"'mekanisme\", \"'memasukkan\", \"'mengutamakan\", \"'multi\", \"'paripurna\", \"'pekerjaan\", \"'pemantauan\", \"'pembinaan\", \"'pemilik\", \"'pengaduan\", \"'pengawasan\", \"'pengelolaan\", \"'penyelenggaraan\", \"'perizinan\", \"'persyaratan\", \"'pertimbangan\", \"'proses\", \"'realisasi\", \"'reviu\", \"'sanksi\", \"'secara\", \"'sektor\", \"'serah\", \"'sertifikat\", \"'sinergi\", \"'sistem\", \"'syariah\", \"'tempat\", \"'transparansi\", \"'uang\", \"'waralaba\", '(', ')', ',', '-', '.', '1', '10', '100', '101', '102', '103', '104', '105', '106', '107', '108', '109', '10c', '11', '110', '111', '112', '113', '114', '115', '116', '117', '118', '119', '12', '120', '121', '122', '123', '124', '125', '126', '127', '128', '129', '13', '130', '131', '132', '133', '134', '135', '136', '137', '138', '139', '14', '140', '141', '142', '143', '15', '16', '17', '18', '18a', '18c', '19', '1992', '2', '20', '2007', '2013', '2014', '2020', '2020-2024', '2021', '2022', '2024', '21', '22', '23', '24', '25', '26', '27', '28', '29', '3', '30', '31', '32', '33', '34', '35', '36', '37', '38', '39', '3a', '4', '40', '41', '42', '43', '44', '45', '46', '47', '48', '49', '5', '50', '51', '52', '53', '54', '55', '56', '57', '58', '59', '6', '60', '61', '62', '63', '64', '65', '66', '67', '68', '69', '7', '70', '71', '72', '73', '74', '75', '76', '77', '78', '79', '8', '80', '81', '82', '83', '84', '85', '86', '87', '88', '89', '9', '90', '91', '92', '93', '94', '95', '96', '97', '98', '99', '``', 'a', 'a-d', 'a-e', 'a-f', 'acaranya', 'acuan', 'ada', 'adakah', 'adalah', 'adanya', 'adaptabilitas', 'adil', 'administrasi', 'administratif', 'advokasi', 'advokat', 'afirmasi', 'afternoon', 'agama', 'agar', 'aggregator', 'ahli', 'ak', 'akad', 'akad-akad', 'akan', 'akomodasi', 'akselerasi', 'aksesibilitas', 'aksi', 'akta', 'aktif', 'aktivitas', 'akun', 'akuntabilitas', 'akuntansi', 'akurat', 'alasan', 'alih', 'aliran', 'alokasi', 'alternatif', 'alumnus', 'amil', 'analisa', 'analisis', 'anda', 'anggaran', 'anggota', 'anggotanya', 'angsuran', 'anjak', 'antar', 'antar-koperasi', 'antara', 'antarinstansi', 'antarkabupaten', 'antarkoperasi', 'antarprovinsi', 'antarunit', 'apa', 'apakah', 'apbd', 'apbn', 'api', 'aplikasi', 'apresiasi', 'area', 'arti', 'asasi', 'asing', 'asosiasi', 'aspek', 'aspek-aspek', 'atas', 'atau', 'atribut', 'aturan', 'aturan-aturan', 'audit', 'awal', 'ayat', 'b', 'badan', 'bagaimana', 'bagaimanakah', 'bagi', 'bagian', 'bahan', 'bahasa', 'bahwa', 'bai', 'baik', 'baitul', 'baku', 'balik', 'bandar', 'bangunan', 'bank', 'bantuan', 'banyak', 'barang', 'barcode', 'baru', 'basah', 'basis', 'bata', 'batang', 'batasan', 'batasan-batasan', 'beban', 'beberapa', 'bekerja', 'bekerjasama', 'belah', 'belanja', 'beli', 'belum', 'benar', 'benar-benar', 'bentuk', 'bentuk-bentuk', 'bentuklah', 'bentuknya', 'berada', 'beralkohol', 'berapa', 'berasal', 'berbagai', 'berbasis', 'berbentuk', 'berdampak', 'berdasarkan', 'berencana', 'berfokus', 'bergulir', 'berhak', 'berhasil', 'berhubungan', 'berikan', 'berikat', 'berita', 'berjalan', 'berjenjang', 'berjualan', 'berkaitan', 'berkala', 'berkedudukan', 'berkelanjutan', 'berkontribusi', 'berkoordinasi', 'berlaku', 'berlangsung', 'berlebihan', 'bermitra', 'beroperasi', 'berorientasi', 'berpartisipasi', 'berpedoman', 'berperan', 'bersalah', 'bersama', 'bersangkutan', 'bersifat', 'bersih', 'bersinergi', 'bertahap', 'bertanggung', 'berturut-turut', 'berupa', 'berusaha', 'bervariasi', 'berwawasan', 'berwenang', 'besar', 'besaran', 'besarannya', 'besarnya', 'best', 'biasa', 'biasanya', 'biaya', 'bidang', 'bijak', 'bimbingan', 'bintang', 'birokrasi', 'bisa', 'bisnis', 'boleh', 'buat', 'bukan', 'buku', 'bulan', 'bulan-bulan', 'bumi', 'bumn', 'bunga', 'bupati', 'business', 'bye', 'byee', 'c', 'cadangan', 'calon', 'cara', 'cepat', 'cetak', 'chatbot', 'chip', 'cicilan', 'cipta', 'ciri', 'citra', 'contoh', 'cukup', 'd', 'dadah', 'daerah', 'daftar', 'dah', 'dak', 'dalam', 'dampak', 'dampaknya', 'dan', 'dan/atau', 'dana', 'dapat', 'dari', 'darimana', 'daring', 'darurat', 'dasar', 'dasarnya', 'data', 'daya', 'definisi', 'denda', 'dengan', 'depan', 'deputi', 'desa', 'desain', 'desember', 'dewan', 'di', 'diadaptasi', 'diajukan', 'diakhiri', 'diakomodasi', 'diakses', 'diakui', 'dialog', 'dialokasikan', 'diamanatkan', 'diambil', 'dianggap', 'diangkat', 'dianjurkan', 'diaplikasikan', 'diarahkan', 'diatur', 'diaturnya', 'diawasi', 'dibagikan', 'dibatasi', 'diberikan', 'diberlakukan', 'dibiayai', 'dibuat', 'dibutuhkan', 'dicabut', 'dicakup', 'dicantumkan', 'dicapai', 'dicatat', 'didanai', 'didefinisikan', 'diduga', 'diemban', 'dievaluasi', 'digital', 'digitalisasi', 'digunakan', 'dihadapi', 'diharapkan', 'dihitung', 'diikuti', 'diikutsertakan', 'diimplementasikan', 'diinformasikan', 'diintegrasikan', 'diizinkan', 'dijabarkan', 'dijadikan', 'dijajaki', 'dijalankan', 'dijamin', 'dijelaskan', 'dijual', 'dijunjung', 'dikategorikan', 'dikecualikan', 'dikelola', 'dikelompokan', 'dikelompokkan', 'dikeluarkan', 'dikenakan', 'dikerjasamakan', 'diklasifikasikan', 'dikumpulkan', 'dikurangi', 'dikurangkan', 'dilaksanakan', 'dilakukan', 'dilalui', 'dilaporkan', 'dilarang', 'dilayani', 'dilibatkan', 'dimaksud', 'dimaksudkan', 'dimana', 'dimanfaatkan', 'dimasukkan', 'dimiliki', 'diminta', 'dimitrakan', 'dimuat', 'dimulai', 'dinamika', 'dinas', 'dinilai', 'dinyatakan', 'dioptimalkan', 'diorganisir', 'dipatuhi', 'dipenuhi', 'diperhatikan', 'diperhitungkan', 'diperlukan', 'diperoleh', 'dipertimbangkan', 'diperuntukkan', 'dipilih', 'dipublikasikan', 'dipungut', 'dirancang', 'dirasakan', 'direalisasikan', 'diri', 'disampaikan', 'disebut', 'disebutkan', 'disediakan', 'diselenggarakan', 'diselesaikan', 'disepakati', 'diserahkan', 'disertakan', 'disesuaikan', 'disetujui', 'disiapkan', 'disinsentif', 'diskriminatif', 'distribusi', 'disusun', 'ditambahkan', 'ditangani', 'ditawarkan', 'ditekankan', 'ditemukan', 'ditentukan', 'diterapkan', 'diterima', 'ditetapkan', 'ditingkatkan', 'dituangkan', 'ditunjuk', 'diukur', 'diumumkan', 'diundangkan', 'diuraikan', 'diusahakan', 'diutamakan', 'diwajibkan', 'diwakilkan', 'diwaspadai', 'diwujudkan', 'dokumen', 'domestik', 'dugaan', 'dukungan', 'dunia', 'e', 'edukasi', 'efektif', 'efektivitas', 'efektivitasnya', 'efisien', 'efisiensi', 'ekonomi', 'ekosistem', 'ekspor', 'eksternal', 'ekuitas', 'elektronik', 'elemen', 'elemen-elemen', 'entitas', 'eselon', 'etika', 'evaluasi', 'f', 'fabrikasi', 'facebook', 'faktor', 'faktor-faktor', 'faktur', 'fasilitas', 'fasilitasi', 'fasilitator', 'fatwa', 'fb', 'finansial', 'fisik', 'fleksibilitas', 'fokus', 'formal', 'format', 'frasa', 'frekuensi', 'fungsi', 'g', 'gagal', 'gambar', 'gambaran', 'ganjil', 'good', 'gubernur', 'guest', 'hadir', 'hai', 'hak', 'hal', 'hal-hal', 'halal', 'halaman', 'hallo', 'halo', 'hambatan', 'hanya', 'harga', 'harian', 'harus', 'hasil', 'hei', 'hi', 'hibah', 'hingga', 'hiperlokal', 'holistik', 'homestay', 'hostel', 'hotel', 'house', 'hubungan', 'hubungannya', 'hukum', 'huruf', 'hy', 'i', 'ide', 'identifikasi', 'identitas', 'iii', 'iklim', 'ilmu', 'imbal', 'implementasi', 'implementasinya', 'implikasi', 'impor', 'indikator', 'indonesia', 'induk', 'industri', 'informal', 'informasi', 'infrastruktur', 'ingin', 'ini', 'inisiatif', 'inklusi', 'inklusif', 'inkubasi', 'inkubator', 'inovasi', 'inovatif', 'insentif', 'instansi', 'instruktur', 'integral', 'integrasi', 'integritas', 'intelektual', 'intensitas', 'interaksi', 'internal', 'internasional', 'interoperabilitas', 'inti', 'inti-plasma', 'investasi', 'investor', 'isi', 'isi/yang', 'istirahat', 'isu-isu', 'itu', 'izin', 'jadwal', 'jalan', 'jaminan', 'jangka', 'januari', 'jaringan', 'jasa', 'jawab', 'jejaring', 'jelas', 'jelaskan', 'jenis', 'jika', 'joint', 'jual', 'juga', 'jumlah', 'jumpa', 'juni', 'ka', 'kabupaten', 'kabupaten/kota', 'kaidah', 'kaitannya', 'kali', 'kamu', 'kandungan', 'kantor', 'kapan', 'kapasitas', 'karakteristik', 'karyawan', 'kasih', 'kasus', 'kata', 'katalog', 'kategori', 'kawan', 'kawasan', 'ke', 'keadaan', 'keagenan', 'keahlian', 'keakuratan', 'keamanan', 'keandalan', 'keanggotaan', 'keberagaman', 'keberhasilan', 'keberlangsungan', 'keberlanjutan', 'keberlanjutannya', 'kebijakan', 'kebutuhan', 'kecamatan', 'kecepatan', 'kecil', 'kedai', 'kedua', 'keduanya', 'kedudukan', 'keefektifan', 'kegiatan', 'kehadiran', 'kekayaan', 'kekuasaan', 'kekuatan', 'kelancaran', 'kelangsungan', 'kelayakan', 'kelebihan', 'kelembagaan', 'kelengkapan', 'kelola', 'kelompok', 'keluaran', 'kelurahan/kantor', 'kemampuan', 'kemasan', 'kembali', 'kementerian', 'kementerian/lembaga', 'kemitraan', 'kemudahan', 'kemungkinan', 'kendala', 'kepabeanan', 'kepada', 'kepala', 'kepatuhan', 'kepemilikan', 'kepemimpinan', 'kepentingan', 'kepercayaan', 'keperluan', 'keping', 'kepuasan', 'keputusan', 'kerahasiaan', 'kerangka', 'kereta', 'keringanan', 'kerja', 'kerjasama', 'kerugian', 'kesamaan', 'kesederhanaan', 'kesejahteraan', 'keselamatan', 'keseluruhan', 'kesempatan', 'kesesuaian', 'ketaatan', 'ketat', 'ketatalaksanaan', 'ketentuan', 'ketepatan', 'keterampilan', 'keterangan', 'ketergantungan', 'keterjangkauan', 'keterkaitan', 'keterkaitannya', 'keterlambatan', 'keterlibatan', 'ketersediaan', 'ketertiban', 'ketetapan', 'ketidakberesan', 'ketidakpatuhan', 'ketiga', 'ketika', 'keuangan', 'keunggulan', 'keuntungan', 'kewajiban', 'kewenangan', 'kewenangannya', 'kewirausahaan', 'khas', 'khusus', 'khususnya', 'kinerja', 'kita', 'klasifikasi', 'klaster', 'ko', 'kode', 'kolaborasi', 'komersial', 'komisi', 'komite', 'kompetensi', 'komponen', 'komprehensif', 'komunitas', 'kondisi', 'konflik', 'konkret', 'konsekuensi', 'konsep', 'konsisten', 'konsistensi', 'konsultan', 'konsultasi', 'konteks', 'konten', 'kontrak', 'kontraktor', 'kontribusi', 'konvensional', 'konversi', 'koordinasi', 'koperasi', 'kota', 'kreatif', 'kredibilitas', 'kredit', 'kriteria', 'kriteria-kriteria', 'kriti', 'kualitas', 'kuat', 'kunci', 'kurang', 'kurasi', 'kurikulum', 'lahan', 'lain', 'lainnya', 'lama', 'laman', 'lampiran', 'langkah', 'langkah-langkah', 'langsung', 'lanjut', 'lanjutan', 'lapangan', 'laporan', 'layak', 'layanan', 'lebih', 'legal', 'legalisasi', 'legalitas', 'lembaga', 'likuiditas', 'lingkungan', 'lingkup', 'literasi', 'login', 'logistik', 'logo', 'lokal', 'lokasi', 'luar', 'luas', 'luring', 'maal', 'magang', 'majelis', 'makan', 'makasih', 'makna', 'maksimal', 'maksimum', 'malam', 'mana', 'manajemen', 'manfaat', 'manual', 'manusia', 'mapan', 'marketplace', 'masa', 'masalah', 'masih', 'masing-masing', 'masuk', 'masukan', 'masyarakat', 'matching', 'materi', 'maupun', 'mediasi', 'medium', 'mekanisme', 'mekanismenya', 'melaksanakan', 'melakukan', 'melalui', 'melanggar', 'melaporkan', 'melati', 'melengkapi', 'melibatkan', 'melindungi', 'meliputi', 'memahami', 'memandang', 'memandu', 'memanfaatkan', 'memasarkan', 'memastikan', 'memasukkan', 'mematuhi', 'membangun', 'membantu', 'membebani', 'membedakan', 'membentuk', 'memberatkan', 'memberikan', 'membiayai', 'membimbing', 'membuat', 'membutuhkan', 'memecahkan', 'memengaruhi', 'memenuhi', 'memeriksa', 'memerlukan', 'memfasilitasi', 'memfungsikan', 'memilih', 'memiliki', 'meminta', 'memitigasi', 'memotivasi', 'mempengaruhi', 'memperbarui', 'mempercayai', 'mempercepat', 'memperhatikan', 'memperkaya', 'memperkokoh', 'memperkuat', 'memperluas', 'memperoleh', 'mempersiapkan', 'mempertahankan', 'mempertimbangkan', 'mempromosikan', 'memuat', 'memudahkan', 'memulai', 'memverifikasi', 'menandatanganinya', 'menangani', 'menarik', 'mencabut', 'mencakup', 'mencantumkan', 'mencapai', 'mencatat', 'mencerminkan', 'menciptakan', 'mendadak', 'mendaftar-daftar', 'mendaftar/daftar', 'mendampingi', 'mendapatkan', 'mendapatkannya', 'mendasari', 'mendatang', 'mendekati', 'mendirikan', 'mendorong', 'mendukung', 'menempatkan', 'menempatkannya', 'menengah', 'menentukan', 'menerapkan', 'menerima', 'menetapkan', 'mengacu', 'mengadopsi', 'mengajukan', 'mengajukannya', 'mengakomodasi', 'mengakses', 'mengalami', 'mengalokasikan', 'mengambil', 'mengapa', 'mengarahkan', 'mengartikan', 'mengatasi', 'mengatur', 'mengawasi', 'mengelola', 'mengelompokkan', 'mengeluarkan', 'mengembangkan', 'mengenai', 'mengendalikan', 'mengerjakan', 'mengetahui', 'mengevaluasi', 'menggalang', 'menggambarkan', 'menggantikan', 'menggerakkan', 'menggunakan', 'menghadapi', 'menghadiri', 'mengharuskan', 'menghimpun', 'menghitung', 'mengidentifikasi', 'mengikuti', 'mengimplementasikan', 'mengindikasikan', 'menginformasikan', 'mengirimkan', 'mengisi', 'mengkaji', 'mengklasifikasikan', 'mengklasifikasikannya', 'mengkoordinasikan', 'mengoordinasikan', 'mengoptimalkan', 'mengorbankan', 'menguatkan', 'mengukur', 'mengumpulkan', 'menguntungkan', 'mengurangi', 'mengusahakan', 'mengusulkan', 'mengutamakan', 'menilai', 'meningkatkan', 'menjadi', 'menjaga', 'menjalankan', 'menjamin', 'menjual', 'menteri', 'menumbuhkan', 'menurut', 'menyalurkan', 'menyampaikan', 'menyebarluaskan', 'menyebutkan', 'menyediakan', 'menyelenggarakan', 'menyertakan', 'menyinergikan', 'menyusun', 'merancang', 'mereka', 'merencanakan', 'merespons', 'merinci', 'merugikan', 'merupakan', 'metode', 'metrik', 'mewadahi', 'mikro', 'milik', 'minat', 'minimal', 'minimum', 'minuman', 'mitra', 'modal', 'modul', 'mohon', 'monitoring', 'morning', 'mudah', 'mui', 'muka', 'mulai', 'multi', 'mungkin', 'murah', 'mutu', 'n', 'nama', 'narasumber', 'nasihat', 'nasional', 'negara', 'negeri', 'negosiasi', 'nilai', 'nilai-nilai', 'no', 'nomenklatur', 'nominal', 'nomor', 'non-pemerintah', 'nondigital', 'nonelektronik', 'nonfisik', 'nonkementerian', 'norma', 'notulen', 'oleh', 'omzet', 'online', 'opd', 'operasi', 'operasional', 'opsi', 'optimal', 'optimalnya', 'orang', 'organik', 'organisasi', 'otomatisasi', 'output', 'outsourcing', 'pada', 'pagi', 'pagu', 'pajak', 'paling', 'pameran', 'panduan', 'panjang', 'papan', 'para', 'parameter', 'paripurna', 'partisipasi', 'pasal', 'pasar', 'pasca', 'pasok', 'pasokan', 'patungan', 'pedesaan', 'pedoman', 'pegawai', 'pejabat', 'pekerjaan', 'pelabuhan', 'pelaksana', 'pelaksanaan', 'pelaku', 'pelanggan', 'pelanggaran', 'pelaporan', 'pelatihan', 'pelayanan', 'pelayanan/bisnis', 'peleburan', 'pelindungan', 'peluang', 'pemahaman', 'pemanfaatan', 'pemangku', 'pemantauan', 'pemasaran', 'pembagian', 'pembahasan', 'pembangunan', 'pembaruan', 'pembatasan', 'pembayaran', 'pembebasan', 'pembentukan', 'pemberdayaan', 'pemberi', 'pemberian', 'pembiayaan', 'pembinaan', 'pembuatan', 'pembuatmu', 'pembudayaan', 'pembukuan', 'pemegang', 'pemeliharaan', 'pemenuhan', 'pemeriksaan', 'pemeringkatan', 'pemerintah', 'pemerintahan', 'pemesanan', 'pemetaan', 'pemilihan', 'pemohon', 'pemula', 'pemulihan', 'pemupukan', 'pemutakhiran', 'penamaan', 'penamaannya', 'penanam', 'penanaman', 'penandatanganan', 'penanganan', 'penanggungan', 'penataan', 'penawaran', 'pencabutan', 'pencapaian', 'pencatatan', 'penceramah', 'penciptamu', 'pencitraan', 'pendaftaran', 'pendahuluan', 'pendamping', 'pendampingan', 'pendanaan', 'pendapatan', 'pendataan', 'pendek', 'pendekatan', 'pendidikan', 'pendirian', 'pendistribusian', 'pendukung', 'penegakan', 'peneliti', 'penempatan', 'penentuan', 'penerapan', 'penerbitannya', 'penerima', 'penerimaan', 'penetapan', 'pengadaan', 'pengadilan', 'pengaduan', 'pengajar', 'pengajuan', 'pengalokasian', 'pengambilalihan', 'pengambilan', 'penganggaran', 'pengangkutan', 'pengaruh', 'pengaturan', 'pengawas', 'pengawasan', 'pengecualian', 'pengelola', 'pengelolaan', 'pengelompokan', 'pengembalian', 'pengembangan', 'pengenaan', 'pengendalian', 'pengertian', 'pengesahan', 'pengetahuan', 'penggabungan', 'penggantian', 'pengguna', 'penggunaan', 'penghargaan', 'penghasilan', 'pengiriman', 'pengoordinasian', 'penguatan', 'pengukuran', 'pengumpulan', 'pengundangan', 'pengupahan', 'pengurangan', 'pengurus', 'pengusahaan', 'pengutamaan', 'penilaian', 'peningkatan', 'peninjauan', 'penjabaran', 'penjamin', 'penjaminan', 'penjualan', 'penolakan', 'penolong', 'penting', 'penumbuhan', 'penunjang', 'penunjukan', 'penyaluran', 'penyampaian', 'penyebarluasan', 'penyederhanaan', 'penyedia', 'penyediaan', 'penyelenggara', 'penyelenggaraan', 'penyelenggaran', 'penyelesaian', 'penyertaan', 'penyesuaian', 'penyinergian', 'penyuluhan', 'penyumberluaran', 'penyusunan', 'per', 'peran', 'perangkat', 'peraturan', 'peraturan-peraturan', 'perbaikan', 'perbedaan', 'perbisnisan', 'percepatan', 'perdagangan', 'peredaran', 'perekonomian', 'perencanaan', 'perguruan', 'perhitungan', 'perilaku', 'peringatan', 'perintah', 'periode', 'periodik', 'perizinan', 'perjanjian', 'perkara', 'perkebunan', 'perkemahan', 'perkembangan', 'perkoperasian', 'perkotaan', 'perlakuan', 'perlindungan', 'perlu', 'perluasan', 'permanen', 'permasalahan', 'permenkop', 'permenperin', 'permintaan', 'permodalan', 'permohonan', 'pernyataan', 'perolehan', 'perorangan', 'perpajakan', 'perpanjangan', 'perpindahan', 'perpres', 'persaingan', 'persen', 'persentase', 'persetujuan', 'persiapan', 'persyaratan', 'pertahanan', 'pertama', 'pertanggungjawaban', 'pertanian', 'pertanyaan', 'pertemuan', 'pertimbangan', 'pertukaran', 'pertumbuhan', 'perubahan', 'perumusan', 'perundang-undangan', 'perusahaan', 'perwakilan', 'peserta', 'peternakan', 'petunjuk', 'pihak', 'pihak-pihak', 'pimpinan', 'pinjam', 'pinjam-meminjam', 'pinjaman', 'piutang', 'pk2umk', 'plafon', 'plasma', 'platform', 'plutkumkm', 'poin', 'pokok', 'pola', 'posisi', 'positif', 'positioning', 'potensi', 'potensial', 'pp', 'pra', 'practice', 'praktek', 'praktik', 'praktiknya', 'praktis', 'prasarana', 'preferensi', 'premium', 'presiden', 'primer', 'prinsip', 'prinsip-prinsip', 'prioritas', 'privasi', 'produk', 'produksi', 'produktif', 'produktivitas', 'profesi', 'profil', 'program', 'promosi', 'proporsi', 'proporsional', 'proposal', 'prose', 'prosedur', 'protokol', 'provinsi', 'provinsi/kabupaten/kota', 'publik', 'publikasi', 'puluh', 'pumk', 'pusat', 'putusan', 'ramah', 'rangka', 'rangkaian', 'rantai', 'rapat', 'rasio', 'rating', 'realisasi', 'referensi', 'reformasi', 'regulasi', 'reguler', 'rekomendasi', 'rekonstruksi', 'relevan', 'relevansi', 'rencana', 'rendah', 'rentang', 'resmi', 'respons', 'restrukturisasi', 'retribusi', 'revisi', 'reviu', 'rincian', 'riset', 'risiko', 'rp2.500.000.000,00', 'rp200.000.000,00', 'rp50.000.000,00', 'rp7.500.000.000,00', 'ruang', 'rumah', 'rutin', 'saat', 'sah', 'saham', 'saing', 'saja', 'salah', 'saldo', 'saling', 'saluran', 'sama', 'sambil', 'sampai', 'sampaikan', 'sanksi', 'saran', 'sarana', 'satu', 'saya', 'sebagai', 'sebagaimana', 'sebagian', 'sebanyak', 'sebelum', 'sebelumnya', 'seberapa', 'sebesar', 'sebuah', 'sebutkan', 'secara', 'sederhana', 'sedikit', 'see', 'segmentasi', 'sehat', 'sehubungan', 'seimbang', 'seiring', 'sejak', 'sejalan', 'sejauh', 'sekaligus', 'sekretaris', 'sektor', 'sektor-sektor', 'sekunder', 'selain', 'selama', 'selamat', 'selanjutnya', 'seleksi', 'seluas-luasnya', 'seluruh', 'semua', 'sendiri', 'sengketa', 'sentra', 'seperti', 'serba', 'sering', 'serta', 'sertifikasi', 'sertifikat', 'sesuai', 'setahun', 'setelah', 'setiap', 'sewa', 'sewa-menyewa', 'shopee', 'shu', 'siang', 'siapa', 'siapakah', 'sifat', 'sih', 'siklus', 'simpan', 'simpanan', 'sinergi', 'singkatan', 'sinkronisasi', 'sisa', 'sistem', 'sistematis', 'situasi', 'skala', 'skd', 'skema', 'skor', 'skoring', 'solusi', 'sore', 'sosial', 'sosialisasi', 'spesifik', 'stakeholder', 'standar', 'standardisasi', 'start-up', 'stasiun', 'statistik', 'status', 'stimulan', 'strategi', 'strategis', 'struktur', 'suara', 'suatu', 'subkontrak', 'subkontraktor', 'subsidi', 'substansial', 'sudah', 'sukarela', 'sumber', 'supergrafis', 'surat', 'susunan', 'swadaya', 'swasta', 'swot', 'syarat', 'syarat-syarat', 'syariah', 'system', 'tahap', 'tahap-tahap', 'tahapan', 'tahun', 'tahunan', 'tambahan', 'tanah', 'tanda', 'tangan', 'tangga', 'tanggal', 'tanggung', 'tanpa', 'tantangan', 'target', 'targeting', 'tata', 'teknis', 'teknologi', 'telah', 'tembusan', 'tempat', 'tenaga', 'tenant', 'tenggat', 'tentang', 'tepat', 'tepercaya', 'terbaik', 'terbaru', 'terbatas', 'terbentuk', 'terbuka', 'tercakup', 'tercantum', 'tercapai', 'terdaftar', 'terdampak', 'terdapat', 'terdidik', 'terdiri', 'terhadap', 'terhormat', 'terima', 'terintegrasi', 'terjadi', 'terjangkau', 'terkait', 'terkandung', 'terkini', 'terlalu', 'terlibat', 'termasuk', 'terminal', 'termuat', 'terpadu', 'terpisahkan', 'tersebut', 'tersedia', 'tertentu', 'tertinggi', 'tertulis', 'tertutup', 'terutama', 'tetap', 'tetapi', 'thank', 'thanks', 'tidak', 'tiga', 'tim', 'tindakan', 'tinggal', 'tinggi', 'tingkat', 'tingkatan', 'tinta', 'titik', 'toko', 'tokopedia', 'tol', 'top', 'topik', 'total', 'tradisional', 'transaksi', 'transfer', 'transformasi', 'transparansi', 'transportasi', 'tren', 'tugas', 'tugasnya', 'tujuan', 'tulisan', 'tunggal', 'uang', 'udara', 'ulama', 'umkm', 'umpan', 'umum', 'undang-undang', 'unggulan', 'unit', 'unsur', 'unsur-unsur', 'untuk', 'up', 'upah', 'upaya', 'uptd', 'uraian', 'urusan', 'usaha', 'usahanya', 'user', 'usulan', 'utama', 'utang', 'uu', 'validasi', 'validitas', 'variasi', 'venture', 'verifikasi', 'visibilitas', 'vokasi', 'wadah', 'wajib', 'wakaf', 'waktu', 'wali', 'waralaba', 'warna', 'warung', 'wawasan', 'wewenang', 'whistleblowing', 'widyaiswara', 'wilayah', 'wilayahnya', 'wirausaha', 'x', 'yaitu', 'yang', 'you', 'zakat']\n"
          ]
        }
      ]
    },
    {
      "cell_type": "markdown",
      "source": [
        "**Sorting Class Data Tags**"
      ],
      "metadata": {
        "id": "5Em0pkLBN9s9"
      }
    },
    {
      "cell_type": "code",
      "source": [
        "# Sorting the data classes\n",
        "classes = sorted(list(set(classes)))\n",
        "\n",
        "# Print the number of classes and the sorted classes\n",
        "print(len(classes), \"classes\", classes)"
      ],
      "metadata": {
        "id": "970xSDzURw2P",
        "colab": {
          "base_uri": "https://localhost:8080/"
        },
        "outputId": "1ae78bbd-021a-4d4b-b522-a7166b944960"
      },
      "execution_count": 10,
      "outputs": [
        {
          "output_type": "stream",
          "name": "stdout",
          "text": [
            "963 classes [\"'Jumlah Ayat UU Permenkop No 6 Tahun 2021 Pasal 1\", \"'Jumlah Ayat UU Permenkop No 6 Tahun 2021 Pasal 2\", \"'Jumlah Ayat UU Permenkop No 6 Tahun 2021 Pasal 3\", \"'Jumlah Ayat UU Permenkop No 6 Tahun 2021 Pasal 4\", \"'Jumlah Ayat UU Permenkop No 6 Tahun 2021 Pasal 5\", \"'Jumlah Ayat UU Permenkop No 6 Tahun 2021 Pasal 6\", \"'Jumlah Ayat UU Permenkop No 6 Tahun 2021 Pasal 7\", \"'Jumlah Ayat UU Permenkop No 6 Tahun 2021 Pasal 8\", 'Chatbot', 'Danatg12', 'Danatg13', 'Danatg14', 'Danatg15', 'EKSPANSI BISNIS tg 17', 'EKSPANSI BISNIS tg 44', 'EKSPANSI BISNIS tg 45', 'EVALUASI BISNIS tg 10', 'EVALUASI BISNIS tg 11', 'EVALUASI BISNIS tg 19', 'EVALUASI BISNIS tg 29', 'EVALUASI BISNIS tg 55', 'EVALUASI BISNIS tg 78', 'Facebooktg10', 'Facebooktg11', 'Facebooktg8', 'Facebooktg9', 'Goodbye', 'Greeting', 'INOVASI BISNIS tg 46', 'INOVASI BISNIS tg 79', 'Jumlah Ayat UU PP No 7 Tahun 2021 Pasal 1', 'Jumlah Ayat UU PP No 7 Tahun 2021 Pasal 10', 'Jumlah Ayat UU PP No 7 Tahun 2021 Pasal 100', 'Jumlah Ayat UU PP No 7 Tahun 2021 Pasal 101', 'Jumlah Ayat UU PP No 7 Tahun 2021 Pasal 102', 'Jumlah Ayat UU PP No 7 Tahun 2021 Pasal 103', 'Jumlah Ayat UU PP No 7 Tahun 2021 Pasal 104', 'Jumlah Ayat UU PP No 7 Tahun 2021 Pasal 105', 'Jumlah Ayat UU PP No 7 Tahun 2021 Pasal 106', 'Jumlah Ayat UU PP No 7 Tahun 2021 Pasal 107', 'Jumlah Ayat UU PP No 7 Tahun 2021 Pasal 108', 'Jumlah Ayat UU PP No 7 Tahun 2021 Pasal 109', 'Jumlah Ayat UU PP No 7 Tahun 2021 Pasal 11', 'Jumlah Ayat UU PP No 7 Tahun 2021 Pasal 110', 'Jumlah Ayat UU PP No 7 Tahun 2021 Pasal 111', 'Jumlah Ayat UU PP No 7 Tahun 2021 Pasal 112', 'Jumlah Ayat UU PP No 7 Tahun 2021 Pasal 113', 'Jumlah Ayat UU PP No 7 Tahun 2021 Pasal 114', 'Jumlah Ayat UU PP No 7 Tahun 2021 Pasal 115', 'Jumlah Ayat UU PP No 7 Tahun 2021 Pasal 116', 'Jumlah Ayat UU PP No 7 Tahun 2021 Pasal 117', 'Jumlah Ayat UU PP No 7 Tahun 2021 Pasal 118', 'Jumlah Ayat UU PP No 7 Tahun 2021 Pasal 119', 'Jumlah Ayat UU PP No 7 Tahun 2021 Pasal 12', 'Jumlah Ayat UU PP No 7 Tahun 2021 Pasal 120', 'Jumlah Ayat UU PP No 7 Tahun 2021 Pasal 121', 'Jumlah Ayat UU PP No 7 Tahun 2021 Pasal 122', 'Jumlah Ayat UU PP No 7 Tahun 2021 Pasal 123', 'Jumlah Ayat UU PP No 7 Tahun 2021 Pasal 124', 'Jumlah Ayat UU PP No 7 Tahun 2021 Pasal 125', 'Jumlah Ayat UU PP No 7 Tahun 2021 Pasal 126', 'Jumlah Ayat UU PP No 7 Tahun 2021 Pasal 127', 'Jumlah Ayat UU PP No 7 Tahun 2021 Pasal 128', 'Jumlah Ayat UU PP No 7 Tahun 2021 Pasal 129', 'Jumlah Ayat UU PP No 7 Tahun 2021 Pasal 13', 'Jumlah Ayat UU PP No 7 Tahun 2021 Pasal 130', 'Jumlah Ayat UU PP No 7 Tahun 2021 Pasal 131', 'Jumlah Ayat UU PP No 7 Tahun 2021 Pasal 132', 'Jumlah Ayat UU PP No 7 Tahun 2021 Pasal 133', 'Jumlah Ayat UU PP No 7 Tahun 2021 Pasal 134', 'Jumlah Ayat UU PP No 7 Tahun 2021 Pasal 135', 'Jumlah Ayat UU PP No 7 Tahun 2021 Pasal 136', 'Jumlah Ayat UU PP No 7 Tahun 2021 Pasal 137', 'Jumlah Ayat UU PP No 7 Tahun 2021 Pasal 138', 'Jumlah Ayat UU PP No 7 Tahun 2021 Pasal 139', 'Jumlah Ayat UU PP No 7 Tahun 2021 Pasal 14', 'Jumlah Ayat UU PP No 7 Tahun 2021 Pasal 140', 'Jumlah Ayat UU PP No 7 Tahun 2021 Pasal 141', 'Jumlah Ayat UU PP No 7 Tahun 2021 Pasal 142', 'Jumlah Ayat UU PP No 7 Tahun 2021 Pasal 143', 'Jumlah Ayat UU PP No 7 Tahun 2021 Pasal 15', 'Jumlah Ayat UU PP No 7 Tahun 2021 Pasal 16', 'Jumlah Ayat UU PP No 7 Tahun 2021 Pasal 17', 'Jumlah Ayat UU PP No 7 Tahun 2021 Pasal 18', 'Jumlah Ayat UU PP No 7 Tahun 2021 Pasal 19', 'Jumlah Ayat UU PP No 7 Tahun 2021 Pasal 2', 'Jumlah Ayat UU PP No 7 Tahun 2021 Pasal 20', 'Jumlah Ayat UU PP No 7 Tahun 2021 Pasal 21', 'Jumlah Ayat UU PP No 7 Tahun 2021 Pasal 22', 'Jumlah Ayat UU PP No 7 Tahun 2021 Pasal 23', 'Jumlah Ayat UU PP No 7 Tahun 2021 Pasal 24', 'Jumlah Ayat UU PP No 7 Tahun 2021 Pasal 25', 'Jumlah Ayat UU PP No 7 Tahun 2021 Pasal 26', 'Jumlah Ayat UU PP No 7 Tahun 2021 Pasal 27', 'Jumlah Ayat UU PP No 7 Tahun 2021 Pasal 28', 'Jumlah Ayat UU PP No 7 Tahun 2021 Pasal 29', 'Jumlah Ayat UU PP No 7 Tahun 2021 Pasal 3', 'Jumlah Ayat UU PP No 7 Tahun 2021 Pasal 30', 'Jumlah Ayat UU PP No 7 Tahun 2021 Pasal 31', 'Jumlah Ayat UU PP No 7 Tahun 2021 Pasal 32', 'Jumlah Ayat UU PP No 7 Tahun 2021 Pasal 33', 'Jumlah Ayat UU PP No 7 Tahun 2021 Pasal 34', 'Jumlah Ayat UU PP No 7 Tahun 2021 Pasal 35', 'Jumlah Ayat UU PP No 7 Tahun 2021 Pasal 36', 'Jumlah Ayat UU PP No 7 Tahun 2021 Pasal 37', 'Jumlah Ayat UU PP No 7 Tahun 2021 Pasal 38', 'Jumlah Ayat UU PP No 7 Tahun 2021 Pasal 39', 'Jumlah Ayat UU PP No 7 Tahun 2021 Pasal 4', 'Jumlah Ayat UU PP No 7 Tahun 2021 Pasal 40', 'Jumlah Ayat UU PP No 7 Tahun 2021 Pasal 41', 'Jumlah Ayat UU PP No 7 Tahun 2021 Pasal 42', 'Jumlah Ayat UU PP No 7 Tahun 2021 Pasal 43', 'Jumlah Ayat UU PP No 7 Tahun 2021 Pasal 44', 'Jumlah Ayat UU PP No 7 Tahun 2021 Pasal 45', 'Jumlah Ayat UU PP No 7 Tahun 2021 Pasal 46', 'Jumlah Ayat UU PP No 7 Tahun 2021 Pasal 47', 'Jumlah Ayat UU PP No 7 Tahun 2021 Pasal 48', 'Jumlah Ayat UU PP No 7 Tahun 2021 Pasal 49', 'Jumlah Ayat UU PP No 7 Tahun 2021 Pasal 5', 'Jumlah Ayat UU PP No 7 Tahun 2021 Pasal 50', 'Jumlah Ayat UU PP No 7 Tahun 2021 Pasal 51', 'Jumlah Ayat UU PP No 7 Tahun 2021 Pasal 52', 'Jumlah Ayat UU PP No 7 Tahun 2021 Pasal 53', 'Jumlah Ayat UU PP No 7 Tahun 2021 Pasal 54', 'Jumlah Ayat UU PP No 7 Tahun 2021 Pasal 55', 'Jumlah Ayat UU PP No 7 Tahun 2021 Pasal 56', 'Jumlah Ayat UU PP No 7 Tahun 2021 Pasal 57', 'Jumlah Ayat UU PP No 7 Tahun 2021 Pasal 58', 'Jumlah Ayat UU PP No 7 Tahun 2021 Pasal 59', 'Jumlah Ayat UU PP No 7 Tahun 2021 Pasal 6', 'Jumlah Ayat UU PP No 7 Tahun 2021 Pasal 60', 'Jumlah Ayat UU PP No 7 Tahun 2021 Pasal 61', 'Jumlah Ayat UU PP No 7 Tahun 2021 Pasal 62', 'Jumlah Ayat UU PP No 7 Tahun 2021 Pasal 63', 'Jumlah Ayat UU PP No 7 Tahun 2021 Pasal 64', 'Jumlah Ayat UU PP No 7 Tahun 2021 Pasal 65', 'Jumlah Ayat UU PP No 7 Tahun 2021 Pasal 66', 'Jumlah Ayat UU PP No 7 Tahun 2021 Pasal 67', 'Jumlah Ayat UU PP No 7 Tahun 2021 Pasal 68', 'Jumlah Ayat UU PP No 7 Tahun 2021 Pasal 69', 'Jumlah Ayat UU PP No 7 Tahun 2021 Pasal 7', 'Jumlah Ayat UU PP No 7 Tahun 2021 Pasal 70', 'Jumlah Ayat UU PP No 7 Tahun 2021 Pasal 71', 'Jumlah Ayat UU PP No 7 Tahun 2021 Pasal 72', 'Jumlah Ayat UU PP No 7 Tahun 2021 Pasal 73', 'Jumlah Ayat UU PP No 7 Tahun 2021 Pasal 74', 'Jumlah Ayat UU PP No 7 Tahun 2021 Pasal 75', 'Jumlah Ayat UU PP No 7 Tahun 2021 Pasal 76', 'Jumlah Ayat UU PP No 7 Tahun 2021 Pasal 77', 'Jumlah Ayat UU PP No 7 Tahun 2021 Pasal 78', 'Jumlah Ayat UU PP No 7 Tahun 2021 Pasal 79', 'Jumlah Ayat UU PP No 7 Tahun 2021 Pasal 8', 'Jumlah Ayat UU PP No 7 Tahun 2021 Pasal 80', 'Jumlah Ayat UU PP No 7 Tahun 2021 Pasal 81', 'Jumlah Ayat UU PP No 7 Tahun 2021 Pasal 82', 'Jumlah Ayat UU PP No 7 Tahun 2021 Pasal 83', 'Jumlah Ayat UU PP No 7 Tahun 2021 Pasal 84', 'Jumlah Ayat UU PP No 7 Tahun 2021 Pasal 85', 'Jumlah Ayat UU PP No 7 Tahun 2021 Pasal 86', 'Jumlah Ayat UU PP No 7 Tahun 2021 Pasal 87', 'Jumlah Ayat UU PP No 7 Tahun 2021 Pasal 88', 'Jumlah Ayat UU PP No 7 Tahun 2021 Pasal 89', 'Jumlah Ayat UU PP No 7 Tahun 2021 Pasal 9', 'Jumlah Ayat UU PP No 7 Tahun 2021 Pasal 90', 'Jumlah Ayat UU PP No 7 Tahun 2021 Pasal 91', 'Jumlah Ayat UU PP No 7 Tahun 2021 Pasal 92', 'Jumlah Ayat UU PP No 7 Tahun 2021 Pasal 93', 'Jumlah Ayat UU PP No 7 Tahun 2021 Pasal 94', 'Jumlah Ayat UU PP No 7 Tahun 2021 Pasal 95', 'Jumlah Ayat UU PP No 7 Tahun 2021 Pasal 96', 'Jumlah Ayat UU PP No 7 Tahun 2021 Pasal 97', 'Jumlah Ayat UU PP No 7 Tahun 2021 Pasal 98', 'Jumlah Ayat UU PP No 7 Tahun 2021 Pasal 99', 'Jumlah Ayat UU PerPres No 2 Tahun 2022 Pasal 1', 'Jumlah Ayat UU PerPres No 2 Tahun 2022 Pasal 2', 'Jumlah Ayat UU PerPres No 2 Tahun 2022 Pasal 3', 'Jumlah Ayat UU PerPres No 2 Tahun 2022 Pasal 4', 'Jumlah Ayat UU PerPres No 2 Tahun 2022 Pasal 5', 'Jumlah Ayat UU PerPres No 49 Tahun 2021 Pasal 2', 'Jumlah Ayat UU PerPres No 49 Tahun 2021 Pasal 6', 'Jumlah Ayat UU Permenkop No 2 Tahun 2022 Pasal 1', 'Jumlah Ayat UU Permenkop No 2 Tahun 2022 Pasal 2', 'Jumlah Ayat UU Permenkop No 2 Tahun 2022 Pasal 3', 'Jumlah Ayat UU Permenkop No 2 Tahun 2022 Pasal 4', 'Jumlah Ayat UU Permenkop No 2 Tahun 2022 Pasal 5', 'Jumlah Ayat UU Permenkop No 8 Tahun 2021 Pasal 1', 'Jumlah Ayat UU Permenkop No 8 Tahun 2021 Pasal 10', 'Jumlah Ayat UU Permenkop No 8 Tahun 2021 Pasal 11', 'Jumlah Ayat UU Permenkop No 8 Tahun 2021 Pasal 12', 'Jumlah Ayat UU Permenkop No 8 Tahun 2021 Pasal 13', 'Jumlah Ayat UU Permenkop No 8 Tahun 2021 Pasal 14', 'Jumlah Ayat UU Permenkop No 8 Tahun 2021 Pasal 15', 'Jumlah Ayat UU Permenkop No 8 Tahun 2021 Pasal 16', 'Jumlah Ayat UU Permenkop No 8 Tahun 2021 Pasal 17', 'Jumlah Ayat UU Permenkop No 8 Tahun 2021 Pasal 18', 'Jumlah Ayat UU Permenkop No 8 Tahun 2021 Pasal 2', 'Jumlah Ayat UU Permenkop No 8 Tahun 2021 Pasal 3', 'Jumlah Ayat UU Permenkop No 8 Tahun 2021 Pasal 4', 'Jumlah Ayat UU Permenkop No 8 Tahun 2021 Pasal 5', 'Jumlah Ayat UU Permenkop No 8 Tahun 2021 Pasal 6', 'Jumlah Ayat UU Permenkop No 8 Tahun 2021 Pasal 7', 'Jumlah Ayat UU Permenkop No 8 Tahun 2021 Pasal 8', 'Jumlah Ayat UU Permenkop No 8 Tahun 2021 Pasal 9', 'Jumlah Ayat UU Permenperin No 26 Tahun 2021 Pasal 1', 'Jumlah Ayat UU Permenperin No 26 Tahun 2021 Pasal 10C', 'Jumlah Ayat UU Permenperin No 26 Tahun 2021 Pasal 18A', 'Jumlah Ayat UU Permenperin No 26 Tahun 2021 Pasal 18C', 'Jumlah Ayat UU Permenperin No 26 Tahun 2021 Pasal 3', 'OPTIMASI OPERASIONAL tg 41', 'OPTIMASI OPERASIONAL tg 42', 'OPTIMASI OPERASIONAL tg 43', 'OPTIMASI OPERASIONAL tg 80', 'OPTIMASI OPERASIONAL tg 81', 'OPTIMASI OPERASIONAL tg 82', 'PEMASARAN tg 18', 'PEMASARAN tg 36', 'PEMASARAN tg 37', 'PEMASARAN tg 39', 'PEMASARAN tg 52', 'PEMASARAN tg 53', 'PEMASARAN tg 6', 'PEMASARAN tg 9', 'PEMBUATAN PRODUK tg 20', 'PEMBUATAN PRODUK tg 40', 'PEMBUATAN PRODUK tg 54', 'PEMBUATAN PRODUK tg 7', 'PENDANAAN tg 14', 'PENDANAAN tg 15', 'PENDANAAN tg 16', 'PENDANAAN tg 32', 'PENDANAAN tg 33', 'PENDANAAN tg 34', 'PENDANAAN tg 35', 'PENDANAAN tg 56', 'PENDANAAN tg 57', 'PENDANAAN tg 58', 'PENDANAAN tg 59', 'PENDANAAN tg 60', 'PENDANAAN tg 61', 'PENDANAAN tg 62', 'PENDANAAN tg 63', 'PENDANAAN tg 64', 'PENDANAAN tg 65', 'PENDANAAN tg 66', 'PENDANAAN tg 67', 'PENDANAAN tg 68', 'PENDANAAN tg 69', 'PENDANAAN tg 70', 'PENDANAAN tg 71', 'PENDANAAN tg 72', 'PENDANAAN tg 73', 'PENDANAAN tg 74', 'PENDANAAN tg 75', 'PENDANAAN tg 76', 'PENGEMBANGAN TIM tg 12', 'PENGEMBANGAN TIM tg 13', 'PENGEMBANGAN TIM tg 47', 'PENGEMBANGAN TIM tg 48', 'PENGEMBANGAN TIM tg 49', 'PENGEMBANGAN TIM tg 50', 'PENGEMBANGAN TIM tg 51', 'PERENCANAAN BISNIS  tg 1', 'PERENCANAAN BISNIS tg 2', 'PERENCANAAN BISNIS tg 28', 'PERENCANAAN BISNIS tg 3', 'PERENCANAAN BISNIS tg 30', 'PERENCANAAN BISNIS tg 31', 'PERENCANAAN BISNIS tg 38', 'PERENCANAAN BISNIS tg 4', 'PERENCANAAN BISNIS tg 5', 'PERENCANAAN BISNIS tg 77', 'PERILAKU KONSUMEN tg 8', 'Pencipta_Chatbot', 'Peraturan Yang Mengatur UMKM', 'Shopeetg1', 'Shopeetg2', 'Shopeetg3', 'Shopeetg4', 'Shopeetg5', 'Terimakasih', 'Tokopediatg6', 'Tokopediatg7', 'UMKM', 'UU PP No 7 Tahun 2021', 'UU PP No 7 Tahun 2021 Pasal 1', 'UU PP No 7 Tahun 2021 Pasal 1 Ayat 1', 'UU PP No 7 Tahun 2021 Pasal 1 Ayat 10', 'UU PP No 7 Tahun 2021 Pasal 1 Ayat 11', 'UU PP No 7 Tahun 2021 Pasal 1 Ayat 12', 'UU PP No 7 Tahun 2021 Pasal 1 Ayat 13', 'UU PP No 7 Tahun 2021 Pasal 1 Ayat 14', 'UU PP No 7 Tahun 2021 Pasal 1 Ayat 2', 'UU PP No 7 Tahun 2021 Pasal 1 Ayat 3', 'UU PP No 7 Tahun 2021 Pasal 1 Ayat 4', 'UU PP No 7 Tahun 2021 Pasal 1 Ayat 5', 'UU PP No 7 Tahun 2021 Pasal 1 Ayat 6', 'UU PP No 7 Tahun 2021 Pasal 1 Ayat 7', 'UU PP No 7 Tahun 2021 Pasal 1 Ayat 8', 'UU PP No 7 Tahun 2021 Pasal 1 Ayat 9', 'UU PP No 7 Tahun 2021 Pasal 10', 'UU PP No 7 Tahun 2021 Pasal 10 Ayat 1', 'UU PP No 7 Tahun 2021 Pasal 10 Ayat 2', 'UU PP No 7 Tahun 2021 Pasal 10 Ayat 3', 'UU PP No 7 Tahun 2021 Pasal 100', 'UU PP No 7 Tahun 2021 Pasal 100 Ayat 1', 'UU PP No 7 Tahun 2021 Pasal 101', 'UU PP No 7 Tahun 2021 Pasal 101 Ayat 1', 'UU PP No 7 Tahun 2021 Pasal 101 Ayat 2', 'UU PP No 7 Tahun 2021 Pasal 102', 'UU PP No 7 Tahun 2021 Pasal 102 Ayat 1', 'UU PP No 7 Tahun 2021 Pasal 102 Ayat 2', 'UU PP No 7 Tahun 2021 Pasal 102 Ayat 3', 'UU PP No 7 Tahun 2021 Pasal 102 Ayat 4', 'UU PP No 7 Tahun 2021 Pasal 102 Ayat 5', 'UU PP No 7 Tahun 2021 Pasal 103', 'UU PP No 7 Tahun 2021 Pasal 103 Ayat 1', 'UU PP No 7 Tahun 2021 Pasal 103 Ayat 2', 'UU PP No 7 Tahun 2021 Pasal 103 Ayat 3', 'UU PP No 7 Tahun 2021 Pasal 104', 'UU PP No 7 Tahun 2021 Pasal 104 Ayat 1', 'UU PP No 7 Tahun 2021 Pasal 104 Ayat 2', 'UU PP No 7 Tahun 2021 Pasal 104 Ayat 3', 'UU PP No 7 Tahun 2021 Pasal 104 Ayat 4', 'UU PP No 7 Tahun 2021 Pasal 105', 'UU PP No 7 Tahun 2021 Pasal 105 Ayat 1', 'UU PP No 7 Tahun 2021 Pasal 105 Ayat 2', 'UU PP No 7 Tahun 2021 Pasal 106', 'UU PP No 7 Tahun 2021 Pasal 106 Ayat 1', 'UU PP No 7 Tahun 2021 Pasal 106 Ayat 2', 'UU PP No 7 Tahun 2021 Pasal 106 Ayat 3', 'UU PP No 7 Tahun 2021 Pasal 106 Ayat 4', 'UU PP No 7 Tahun 2021 Pasal 107', 'UU PP No 7 Tahun 2021 Pasal 107 Ayat 1', 'UU PP No 7 Tahun 2021 Pasal 108', 'UU PP No 7 Tahun 2021 Pasal 108 Ayat 1', 'UU PP No 7 Tahun 2021 Pasal 108 Ayat 2', 'UU PP No 7 Tahun 2021 Pasal 109', 'UU PP No 7 Tahun 2021 Pasal 109 Ayat 1', 'UU PP No 7 Tahun 2021 Pasal 109 Ayat 2', 'UU PP No 7 Tahun 2021 Pasal 109 Ayat 3', 'UU PP No 7 Tahun 2021 Pasal 109 Ayat 4', 'UU PP No 7 Tahun 2021 Pasal 11', 'UU PP No 7 Tahun 2021 Pasal 11 Ayat 1', 'UU PP No 7 Tahun 2021 Pasal 11 Ayat 2', 'UU PP No 7 Tahun 2021 Pasal 11 Ayat 3', 'UU PP No 7 Tahun 2021 Pasal 11 Ayat 4', 'UU PP No 7 Tahun 2021 Pasal 11 Ayat 5', 'UU PP No 7 Tahun 2021 Pasal 11 Ayat 6', 'UU PP No 7 Tahun 2021 Pasal 110', 'UU PP No 7 Tahun 2021 Pasal 110 Ayat 1', 'UU PP No 7 Tahun 2021 Pasal 110 Ayat 2', 'UU PP No 7 Tahun 2021 Pasal 111', 'UU PP No 7 Tahun 2021 Pasal 111 Ayat 1', 'UU PP No 7 Tahun 2021 Pasal 112', 'UU PP No 7 Tahun 2021 Pasal 112 Ayat 1', 'UU PP No 7 Tahun 2021 Pasal 112 Ayat 2', 'UU PP No 7 Tahun 2021 Pasal 112 Ayat 3', 'UU PP No 7 Tahun 2021 Pasal 112 Ayat 4', 'UU PP No 7 Tahun 2021 Pasal 113', 'UU PP No 7 Tahun 2021 Pasal 113 Ayat 1', 'UU PP No 7 Tahun 2021 Pasal 113 Ayat 2', 'UU PP No 7 Tahun 2021 Pasal 113 Ayat 3', 'UU PP No 7 Tahun 2021 Pasal 114', 'UU PP No 7 Tahun 2021 Pasal 114 Ayat 1', 'UU PP No 7 Tahun 2021 Pasal 115', 'UU PP No 7 Tahun 2021 Pasal 115 Ayat 1', 'UU PP No 7 Tahun 2021 Pasal 115 Ayat 2', 'UU PP No 7 Tahun 2021 Pasal 116', 'UU PP No 7 Tahun 2021 Pasal 116 Ayat 1', 'UU PP No 7 Tahun 2021 Pasal 116 Ayat 2', 'UU PP No 7 Tahun 2021 Pasal 116 Ayat 3', 'UU PP No 7 Tahun 2021 Pasal 116 Ayat 4', 'UU PP No 7 Tahun 2021 Pasal 117', 'UU PP No 7 Tahun 2021 Pasal 117 Ayat 1', 'UU PP No 7 Tahun 2021 Pasal 117 Ayat 2', 'UU PP No 7 Tahun 2021 Pasal 117 Ayat 3', 'UU PP No 7 Tahun 2021 Pasal 117 Ayat 4', 'UU PP No 7 Tahun 2021 Pasal 118', 'UU PP No 7 Tahun 2021 Pasal 118 Ayat 1', 'UU PP No 7 Tahun 2021 Pasal 118 Ayat 2', 'UU PP No 7 Tahun 2021 Pasal 119', 'UU PP No 7 Tahun 2021 Pasal 119 Ayat 1', 'UU PP No 7 Tahun 2021 Pasal 119 Ayat 2', 'UU PP No 7 Tahun 2021 Pasal 119 Ayat 3', 'UU PP No 7 Tahun 2021 Pasal 119 Ayat 4', 'UU PP No 7 Tahun 2021 Pasal 12', 'UU PP No 7 Tahun 2021 Pasal 12 Ayat 1', 'UU PP No 7 Tahun 2021 Pasal 12 Ayat 2', 'UU PP No 7 Tahun 2021 Pasal 12 Ayat 3', 'UU PP No 7 Tahun 2021 Pasal 12 Ayat 4', 'UU PP No 7 Tahun 2021 Pasal 12 Ayat 5', 'UU PP No 7 Tahun 2021 Pasal 120', 'UU PP No 7 Tahun 2021 Pasal 120 Ayat 1', 'UU PP No 7 Tahun 2021 Pasal 120 Ayat 2', 'UU PP No 7 Tahun 2021 Pasal 121', 'UU PP No 7 Tahun 2021 Pasal 121 Ayat 1', 'UU PP No 7 Tahun 2021 Pasal 121 Ayat 2', 'UU PP No 7 Tahun 2021 Pasal 121 Ayat 3', 'UU PP No 7 Tahun 2021 Pasal 122', 'UU PP No 7 Tahun 2021 Pasal 122 Ayat 1', 'UU PP No 7 Tahun 2021 Pasal 122 Ayat 2', 'UU PP No 7 Tahun 2021 Pasal 123', 'UU PP No 7 Tahun 2021 Pasal 123 Ayat 1', 'UU PP No 7 Tahun 2021 Pasal 124', 'UU PP No 7 Tahun 2021 Pasal 124 Ayat 1', 'UU PP No 7 Tahun 2021 Pasal 124 Ayat 2', 'UU PP No 7 Tahun 2021 Pasal 124 Ayat 3', 'UU PP No 7 Tahun 2021 Pasal 124 Ayat 4', 'UU PP No 7 Tahun 2021 Pasal 124 Ayat 5', 'UU PP No 7 Tahun 2021 Pasal 124 Ayat 6', 'UU PP No 7 Tahun 2021 Pasal 125', 'UU PP No 7 Tahun 2021 Pasal 125 Ayat 1', 'UU PP No 7 Tahun 2021 Pasal 125 Ayat 2', 'UU PP No 7 Tahun 2021 Pasal 125 Ayat 3', 'UU PP No 7 Tahun 2021 Pasal 126', 'UU PP No 7 Tahun 2021 Pasal 126 Ayat 1', 'UU PP No 7 Tahun 2021 Pasal 127', 'UU PP No 7 Tahun 2021 Pasal 127 Ayat 1', 'UU PP No 7 Tahun 2021 Pasal 127 Ayat 2', 'UU PP No 7 Tahun 2021 Pasal 127 Ayat 3', 'UU PP No 7 Tahun 2021 Pasal 127 Ayat 4', 'UU PP No 7 Tahun 2021 Pasal 128', 'UU PP No 7 Tahun 2021 Pasal 128 Ayat 1', 'UU PP No 7 Tahun 2021 Pasal 128 Ayat 2', 'UU PP No 7 Tahun 2021 Pasal 128 Ayat 3', 'UU PP No 7 Tahun 2021 Pasal 128 Ayat 4', 'UU PP No 7 Tahun 2021 Pasal 128 Ayat 5', 'UU PP No 7 Tahun 2021 Pasal 128 Ayat 6', 'UU PP No 7 Tahun 2021 Pasal 129', 'UU PP No 7 Tahun 2021 Pasal 129 Ayat 1', 'UU PP No 7 Tahun 2021 Pasal 129 Ayat 2', 'UU PP No 7 Tahun 2021 Pasal 129 Ayat 3', 'UU PP No 7 Tahun 2021 Pasal 129 Ayat 4', 'UU PP No 7 Tahun 2021 Pasal 13', 'UU PP No 7 Tahun 2021 Pasal 13 Ayat 1', 'UU PP No 7 Tahun 2021 Pasal 13 Ayat 2', 'UU PP No 7 Tahun 2021 Pasal 13 Ayat 3', 'UU PP No 7 Tahun 2021 Pasal 13 Ayat 4', 'UU PP No 7 Tahun 2021 Pasal 13 Ayat 5', 'UU PP No 7 Tahun 2021 Pasal 13 Ayat 6', 'UU PP No 7 Tahun 2021 Pasal 130', 'UU PP No 7 Tahun 2021 Pasal 130 Ayat 1', 'UU PP No 7 Tahun 2021 Pasal 130 Ayat 2', 'UU PP No 7 Tahun 2021 Pasal 130 Ayat 3', 'UU PP No 7 Tahun 2021 Pasal 131', 'UU PP No 7 Tahun 2021 Pasal 131 Ayat 1', 'UU PP No 7 Tahun 2021 Pasal 132', 'UU PP No 7 Tahun 2021 Pasal 132 Ayat 1', 'UU PP No 7 Tahun 2021 Pasal 132 Ayat 2', 'UU PP No 7 Tahun 2021 Pasal 132 Ayat 3', 'UU PP No 7 Tahun 2021 Pasal 132 Ayat 4', 'UU PP No 7 Tahun 2021 Pasal 132 Ayat 5', 'UU PP No 7 Tahun 2021 Pasal 132 Ayat 6', 'UU PP No 7 Tahun 2021 Pasal 133', 'UU PP No 7 Tahun 2021 Pasal 133 Ayat 1', 'UU PP No 7 Tahun 2021 Pasal 133 Ayat 2', 'UU PP No 7 Tahun 2021 Pasal 133 Ayat 3', 'UU PP No 7 Tahun 2021 Pasal 133 Ayat 4', 'UU PP No 7 Tahun 2021 Pasal 134', 'UU PP No 7 Tahun 2021 Pasal 134 Ayat 1', 'UU PP No 7 Tahun 2021 Pasal 134 Ayat 2', 'UU PP No 7 Tahun 2021 Pasal 134 Ayat 3', 'UU PP No 7 Tahun 2021 Pasal 134 Ayat 4', 'UU PP No 7 Tahun 2021 Pasal 134 Ayat 5', 'UU PP No 7 Tahun 2021 Pasal 134 Ayat 6', 'UU PP No 7 Tahun 2021 Pasal 135', 'UU PP No 7 Tahun 2021 Pasal 135 Ayat 1', 'UU PP No 7 Tahun 2021 Pasal 135 Ayat 2', 'UU PP No 7 Tahun 2021 Pasal 135 Ayat 3', 'UU PP No 7 Tahun 2021 Pasal 135 Ayat 4', 'UU PP No 7 Tahun 2021 Pasal 135 Ayat 5', 'UU PP No 7 Tahun 2021 Pasal 135 Ayat 6', 'UU PP No 7 Tahun 2021 Pasal 135 Ayat 7', 'UU PP No 7 Tahun 2021 Pasal 136', 'UU PP No 7 Tahun 2021 Pasal 136 Ayat 1', 'UU PP No 7 Tahun 2021 Pasal 136 Ayat 2', 'UU PP No 7 Tahun 2021 Pasal 137', 'UU PP No 7 Tahun 2021 Pasal 137 Ayat 1', 'UU PP No 7 Tahun 2021 Pasal 137 Ayat 2', 'UU PP No 7 Tahun 2021 Pasal 138', 'UU PP No 7 Tahun 2021 Pasal 138 Ayat 1', 'UU PP No 7 Tahun 2021 Pasal 139', 'UU PP No 7 Tahun 2021 Pasal 139 Ayat 1', 'UU PP No 7 Tahun 2021 Pasal 139 Ayat 2', 'UU PP No 7 Tahun 2021 Pasal 139 Ayat 3', 'UU PP No 7 Tahun 2021 Pasal 139 Ayat 4', 'UU PP No 7 Tahun 2021 Pasal 14', 'UU PP No 7 Tahun 2021 Pasal 14 Ayat 1', 'UU PP No 7 Tahun 2021 Pasal 14 Ayat 2', 'UU PP No 7 Tahun 2021 Pasal 14 Ayat 3', 'UU PP No 7 Tahun 2021 Pasal 140', 'UU PP No 7 Tahun 2021 Pasal 140 Ayat 1', 'UU PP No 7 Tahun 2021 Pasal 141', 'UU PP No 7 Tahun 2021 Pasal 141 Ayat 1', 'UU PP No 7 Tahun 2021 Pasal 142', 'UU PP No 7 Tahun 2021 Pasal 142 Ayat 1', 'UU PP No 7 Tahun 2021 Pasal 143', 'UU PP No 7 Tahun 2021 Pasal 143 Ayat 1', 'UU PP No 7 Tahun 2021 Pasal 15', 'UU PP No 7 Tahun 2021 Pasal 15 Ayat 1', 'UU PP No 7 Tahun 2021 Pasal 15 Ayat 2', 'UU PP No 7 Tahun 2021 Pasal 15 Ayat 3', 'UU PP No 7 Tahun 2021 Pasal 15 Ayat 4', 'UU PP No 7 Tahun 2021 Pasal 16', 'UU PP No 7 Tahun 2021 Pasal 16 Ayat 1', 'UU PP No 7 Tahun 2021 Pasal 17', 'UU PP No 7 Tahun 2021 Pasal 17 Ayat 1', 'UU PP No 7 Tahun 2021 Pasal 17 Ayat 2', 'UU PP No 7 Tahun 2021 Pasal 17 Ayat 3', 'UU PP No 7 Tahun 2021 Pasal 18', 'UU PP No 7 Tahun 2021 Pasal 18 Ayat 1', 'UU PP No 7 Tahun 2021 Pasal 18 Ayat 2', 'UU PP No 7 Tahun 2021 Pasal 18 Ayat 3', 'UU PP No 7 Tahun 2021 Pasal 18 Ayat 4', 'UU PP No 7 Tahun 2021 Pasal 19', 'UU PP No 7 Tahun 2021 Pasal 19 Ayat 1', 'UU PP No 7 Tahun 2021 Pasal 2', 'UU PP No 7 Tahun 2021 Pasal 2 Ayat 1', 'UU PP No 7 Tahun 2021 Pasal 2 Ayat 2', 'UU PP No 7 Tahun 2021 Pasal 20', 'UU PP No 7 Tahun 2021 Pasal 20 Ayat 1', 'UU PP No 7 Tahun 2021 Pasal 21', 'UU PP No 7 Tahun 2021 Pasal 21 Ayat 1', 'UU PP No 7 Tahun 2021 Pasal 21 Ayat 2', 'UU PP No 7 Tahun 2021 Pasal 21 Ayat 3', 'UU PP No 7 Tahun 2021 Pasal 21 Ayat 4', 'UU PP No 7 Tahun 2021 Pasal 21 Ayat 5', 'UU PP No 7 Tahun 2021 Pasal 21 Ayat 6', 'UU PP No 7 Tahun 2021 Pasal 22', 'UU PP No 7 Tahun 2021 Pasal 22 Ayat 1', 'UU PP No 7 Tahun 2021 Pasal 22 Ayat 2', 'UU PP No 7 Tahun 2021 Pasal 22 Ayat 3', 'UU PP No 7 Tahun 2021 Pasal 23', 'UU PP No 7 Tahun 2021 Pasal 23 Ayat 1', 'UU PP No 7 Tahun 2021 Pasal 24', 'UU PP No 7 Tahun 2021 Pasal 24 Ayat 1', 'UU PP No 7 Tahun 2021 Pasal 24 Ayat 2', 'UU PP No 7 Tahun 2021 Pasal 25', 'UU PP No 7 Tahun 2021 Pasal 25 Ayat 1', 'UU PP No 7 Tahun 2021 Pasal 26', 'UU PP No 7 Tahun 2021 Pasal 26 Ayat 1', 'UU PP No 7 Tahun 2021 Pasal 26 Ayat 2', 'UU PP No 7 Tahun 2021 Pasal 26 Ayat 3', 'UU PP No 7 Tahun 2021 Pasal 27', 'UU PP No 7 Tahun 2021 Pasal 27 Ayat 1', 'UU PP No 7 Tahun 2021 Pasal 27 Ayat 2', 'UU PP No 7 Tahun 2021 Pasal 28', 'UU PP No 7 Tahun 2021 Pasal 28 Ayat 1', 'UU PP No 7 Tahun 2021 Pasal 28 Ayat 2', 'UU PP No 7 Tahun 2021 Pasal 29', 'UU PP No 7 Tahun 2021 Pasal 29 Ayat 1', 'UU PP No 7 Tahun 2021 Pasal 29 Ayat 2', 'UU PP No 7 Tahun 2021 Pasal 3', 'UU PP No 7 Tahun 2021 Pasal 3 Ayat 1', 'UU PP No 7 Tahun 2021 Pasal 3 Ayat 2', 'UU PP No 7 Tahun 2021 Pasal 30', 'UU PP No 7 Tahun 2021 Pasal 30 Ayat 1', 'UU PP No 7 Tahun 2021 Pasal 30 Ayat 2', 'UU PP No 7 Tahun 2021 Pasal 30 Ayat 3', 'UU PP No 7 Tahun 2021 Pasal 31', 'UU PP No 7 Tahun 2021 Pasal 31 Ayat 1', 'UU PP No 7 Tahun 2021 Pasal 32', 'UU PP No 7 Tahun 2021 Pasal 32 Ayat 1', 'UU PP No 7 Tahun 2021 Pasal 33', 'UU PP No 7 Tahun 2021 Pasal 33 Ayat 1', 'UU PP No 7 Tahun 2021 Pasal 33 Ayat 2', 'UU PP No 7 Tahun 2021 Pasal 33 Ayat 3', 'UU PP No 7 Tahun 2021 Pasal 34', 'UU PP No 7 Tahun 2021 Pasal 34 Ayat 1', 'UU PP No 7 Tahun 2021 Pasal 34 Ayat 2', 'UU PP No 7 Tahun 2021 Pasal 34 Ayat 3', 'UU PP No 7 Tahun 2021 Pasal 34 Ayat 4', 'UU PP No 7 Tahun 2021 Pasal 34 Ayat 5', 'UU PP No 7 Tahun 2021 Pasal 34 Ayat 6', 'UU PP No 7 Tahun 2021 Pasal 35', 'UU PP No 7 Tahun 2021 Pasal 35 Ayat 1', 'UU PP No 7 Tahun 2021 Pasal 35 Ayat 2', 'UU PP No 7 Tahun 2021 Pasal 35 Ayat 3', 'UU PP No 7 Tahun 2021 Pasal 35 Ayat 4', 'UU PP No 7 Tahun 2021 Pasal 35 Ayat 5', 'UU PP No 7 Tahun 2021 Pasal 35 Ayat 6', 'UU PP No 7 Tahun 2021 Pasal 35 Ayat 7', 'UU PP No 7 Tahun 2021 Pasal 36', 'UU PP No 7 Tahun 2021 Pasal 36 Ayat 1', 'UU PP No 7 Tahun 2021 Pasal 36 Ayat 2', 'UU PP No 7 Tahun 2021 Pasal 37', 'UU PP No 7 Tahun 2021 Pasal 37 Ayat 1', 'UU PP No 7 Tahun 2021 Pasal 37 Ayat 2', 'UU PP No 7 Tahun 2021 Pasal 37 Ayat 3', 'UU PP No 7 Tahun 2021 Pasal 38', 'UU PP No 7 Tahun 2021 Pasal 38 Ayat 1', 'UU PP No 7 Tahun 2021 Pasal 38 Ayat 2', 'UU PP No 7 Tahun 2021 Pasal 39', 'UU PP No 7 Tahun 2021 Pasal 39 Ayat 1', 'UU PP No 7 Tahun 2021 Pasal 39 Ayat 2', 'UU PP No 7 Tahun 2021 Pasal 4', 'UU PP No 7 Tahun 2021 Pasal 4 Ayat 1', 'UU PP No 7 Tahun 2021 Pasal 40', 'UU PP No 7 Tahun 2021 Pasal 40 Ayat 1', 'UU PP No 7 Tahun 2021 Pasal 41', 'UU PP No 7 Tahun 2021 Pasal 41 Ayat 1', 'UU PP No 7 Tahun 2021 Pasal 41 Ayat 2', 'UU PP No 7 Tahun 2021 Pasal 41 Ayat 3', 'UU PP No 7 Tahun 2021 Pasal 42', 'UU PP No 7 Tahun 2021 Pasal 42 Ayat 1', 'UU PP No 7 Tahun 2021 Pasal 43', 'UU PP No 7 Tahun 2021 Pasal 43 Ayat 1', 'UU PP No 7 Tahun 2021 Pasal 43 Ayat 2', 'UU PP No 7 Tahun 2021 Pasal 43 Ayat 3', 'UU PP No 7 Tahun 2021 Pasal 43 Ayat 4', 'UU PP No 7 Tahun 2021 Pasal 44', 'UU PP No 7 Tahun 2021 Pasal 44 Ayat 1', 'UU PP No 7 Tahun 2021 Pasal 45', 'UU PP No 7 Tahun 2021 Pasal 45 Ayat 1', 'UU PP No 7 Tahun 2021 Pasal 45 Ayat 2', 'UU PP No 7 Tahun 2021 Pasal 45 Ayat 3', 'UU PP No 7 Tahun 2021 Pasal 46', 'UU PP No 7 Tahun 2021 Pasal 46 Ayat 1', 'UU PP No 7 Tahun 2021 Pasal 47', 'UU PP No 7 Tahun 2021 Pasal 47 Ayat 1', 'UU PP No 7 Tahun 2021 Pasal 48', 'UU PP No 7 Tahun 2021 Pasal 48 Ayat 1', 'UU PP No 7 Tahun 2021 Pasal 48 Ayat 2', 'UU PP No 7 Tahun 2021 Pasal 48 Ayat 3', 'UU PP No 7 Tahun 2021 Pasal 49', 'UU PP No 7 Tahun 2021 Pasal 49 Ayat 1', 'UU PP No 7 Tahun 2021 Pasal 5', 'UU PP No 7 Tahun 2021 Pasal 5 Ayat 1', 'UU PP No 7 Tahun 2021 Pasal 50', 'UU PP No 7 Tahun 2021 Pasal 50 Ayat 1', 'UU PP No 7 Tahun 2021 Pasal 50 Ayat 2', 'UU PP No 7 Tahun 2021 Pasal 50 Ayat 3', 'UU PP No 7 Tahun 2021 Pasal 50 Ayat 4', 'UU PP No 7 Tahun 2021 Pasal 51', 'UU PP No 7 Tahun 2021 Pasal 51 Ayat 1', 'UU PP No 7 Tahun 2021 Pasal 52', 'UU PP No 7 Tahun 2021 Pasal 52 Ayat 1', 'UU PP No 7 Tahun 2021 Pasal 52 Ayat 2', 'UU PP No 7 Tahun 2021 Pasal 52 Ayat 3', 'UU PP No 7 Tahun 2021 Pasal 53', 'UU PP No 7 Tahun 2021 Pasal 53 Ayat 1', 'UU PP No 7 Tahun 2021 Pasal 53 Ayat 2', 'UU PP No 7 Tahun 2021 Pasal 54', 'UU PP No 7 Tahun 2021 Pasal 54 Ayat 1', 'UU PP No 7 Tahun 2021 Pasal 55', 'UU PP No 7 Tahun 2021 Pasal 55 Ayat 1', 'UU PP No 7 Tahun 2021 Pasal 55 Ayat 2', 'UU PP No 7 Tahun 2021 Pasal 55 Ayat 3', 'UU PP No 7 Tahun 2021 Pasal 55 Ayat 4', 'UU PP No 7 Tahun 2021 Pasal 56', 'UU PP No 7 Tahun 2021 Pasal 56 Ayat 1', 'UU PP No 7 Tahun 2021 Pasal 56 Ayat 2', 'UU PP No 7 Tahun 2021 Pasal 56 Ayat 3', 'UU PP No 7 Tahun 2021 Pasal 57', 'UU PP No 7 Tahun 2021 Pasal 57 Ayat 1', 'UU PP No 7 Tahun 2021 Pasal 58', 'UU PP No 7 Tahun 2021 Pasal 58 Ayat 1', 'UU PP No 7 Tahun 2021 Pasal 58 Ayat 2', 'UU PP No 7 Tahun 2021 Pasal 58 Ayat 3', 'UU PP No 7 Tahun 2021 Pasal 58 Ayat 4', 'UU PP No 7 Tahun 2021 Pasal 59', 'UU PP No 7 Tahun 2021 Pasal 59 Ayat 1', 'UU PP No 7 Tahun 2021 Pasal 6', 'UU PP No 7 Tahun 2021 Pasal 6 Ayat 1', 'UU PP No 7 Tahun 2021 Pasal 6 Ayat 2', 'UU PP No 7 Tahun 2021 Pasal 6 Ayat 3', 'UU PP No 7 Tahun 2021 Pasal 60', 'UU PP No 7 Tahun 2021 Pasal 60 Ayat 1', 'UU PP No 7 Tahun 2021 Pasal 60 Ayat 2', 'UU PP No 7 Tahun 2021 Pasal 60 Ayat 3', 'UU PP No 7 Tahun 2021 Pasal 60 Ayat 4', 'UU PP No 7 Tahun 2021 Pasal 61', 'UU PP No 7 Tahun 2021 Pasal 61 Ayat 1', 'UU PP No 7 Tahun 2021 Pasal 61 Ayat 2', 'UU PP No 7 Tahun 2021 Pasal 62', 'UU PP No 7 Tahun 2021 Pasal 62 Ayat 1', 'UU PP No 7 Tahun 2021 Pasal 62 Ayat 2', 'UU PP No 7 Tahun 2021 Pasal 62 Ayat 3', 'UU PP No 7 Tahun 2021 Pasal 62 Ayat 4', 'UU PP No 7 Tahun 2021 Pasal 63', 'UU PP No 7 Tahun 2021 Pasal 63 Ayat 1', 'UU PP No 7 Tahun 2021 Pasal 63 Ayat 2', 'UU PP No 7 Tahun 2021 Pasal 63 Ayat 3', 'UU PP No 7 Tahun 2021 Pasal 63 Ayat 4', 'UU PP No 7 Tahun 2021 Pasal 64', 'UU PP No 7 Tahun 2021 Pasal 64 Ayat 1', 'UU PP No 7 Tahun 2021 Pasal 64 Ayat 2', 'UU PP No 7 Tahun 2021 Pasal 64 Ayat 3', 'UU PP No 7 Tahun 2021 Pasal 64 Ayat 4', 'UU PP No 7 Tahun 2021 Pasal 65', 'UU PP No 7 Tahun 2021 Pasal 65 Ayat 1', 'UU PP No 7 Tahun 2021 Pasal 65 Ayat 2', 'UU PP No 7 Tahun 2021 Pasal 66', 'UU PP No 7 Tahun 2021 Pasal 66 Ayat 1', 'UU PP No 7 Tahun 2021 Pasal 67', 'UU PP No 7 Tahun 2021 Pasal 67 Ayat 1', 'UU PP No 7 Tahun 2021 Pasal 68', 'UU PP No 7 Tahun 2021 Pasal 68 Ayat 1', 'UU PP No 7 Tahun 2021 Pasal 68 Ayat 2', 'UU PP No 7 Tahun 2021 Pasal 69', 'UU PP No 7 Tahun 2021 Pasal 69 Ayat 1', 'UU PP No 7 Tahun 2021 Pasal 69 Ayat 2', 'UU PP No 7 Tahun 2021 Pasal 69 Ayat 3', 'UU PP No 7 Tahun 2021 Pasal 69 Ayat 4', 'UU PP No 7 Tahun 2021 Pasal 7', 'UU PP No 7 Tahun 2021 Pasal 7 Ayat 1', 'UU PP No 7 Tahun 2021 Pasal 70', 'UU PP No 7 Tahun 2021 Pasal 70 Ayat 1', 'UU PP No 7 Tahun 2021 Pasal 71', 'UU PP No 7 Tahun 2021 Pasal 71 Ayat 1', 'UU PP No 7 Tahun 2021 Pasal 72', 'UU PP No 7 Tahun 2021 Pasal 72 Ayat 1', 'UU PP No 7 Tahun 2021 Pasal 72 Ayat 2', 'UU PP No 7 Tahun 2021 Pasal 72 Ayat 3', 'UU PP No 7 Tahun 2021 Pasal 73', 'UU PP No 7 Tahun 2021 Pasal 73 Ayat 1', 'UU PP No 7 Tahun 2021 Pasal 73 Ayat 2', 'UU PP No 7 Tahun 2021 Pasal 73 Ayat 3', 'UU PP No 7 Tahun 2021 Pasal 73 Ayat 4', 'UU PP No 7 Tahun 2021 Pasal 74', 'UU PP No 7 Tahun 2021 Pasal 74 Ayat 1', 'UU PP No 7 Tahun 2021 Pasal 75', 'UU PP No 7 Tahun 2021 Pasal 75 Ayat 1', 'UU PP No 7 Tahun 2021 Pasal 76', 'UU PP No 7 Tahun 2021 Pasal 76 Ayat 1', 'UU PP No 7 Tahun 2021 Pasal 77', 'UU PP No 7 Tahun 2021 Pasal 77 Ayat 1', 'UU PP No 7 Tahun 2021 Pasal 77 Ayat 2', 'UU PP No 7 Tahun 2021 Pasal 78', 'UU PP No 7 Tahun 2021 Pasal 78 Ayat 1', 'UU PP No 7 Tahun 2021 Pasal 79', 'UU PP No 7 Tahun 2021 Pasal 79 Ayat 1', 'UU PP No 7 Tahun 2021 Pasal 79 Ayat 2', 'UU PP No 7 Tahun 2021 Pasal 79 Ayat 3', 'UU PP No 7 Tahun 2021 Pasal 79 Ayat 4', 'UU PP No 7 Tahun 2021 Pasal 79 Ayat 5', 'UU PP No 7 Tahun 2021 Pasal 8', 'UU PP No 7 Tahun 2021 Pasal 8 Ayat 1', 'UU PP No 7 Tahun 2021 Pasal 8 Ayat 2', 'UU PP No 7 Tahun 2021 Pasal 8 Ayat 3', 'UU PP No 7 Tahun 2021 Pasal 8 Ayat 4', 'UU PP No 7 Tahun 2021 Pasal 80', 'UU PP No 7 Tahun 2021 Pasal 80 Ayat 1', 'UU PP No 7 Tahun 2021 Pasal 80 Ayat 2', 'UU PP No 7 Tahun 2021 Pasal 81', 'UU PP No 7 Tahun 2021 Pasal 81 Ayat 1', 'UU PP No 7 Tahun 2021 Pasal 81 Ayat 2', 'UU PP No 7 Tahun 2021 Pasal 81 Ayat 3', 'UU PP No 7 Tahun 2021 Pasal 81 Ayat 4', 'UU PP No 7 Tahun 2021 Pasal 82', 'UU PP No 7 Tahun 2021 Pasal 82 Ayat 1', 'UU PP No 7 Tahun 2021 Pasal 82 Ayat 2', 'UU PP No 7 Tahun 2021 Pasal 83', 'UU PP No 7 Tahun 2021 Pasal 83 Ayat 1', 'UU PP No 7 Tahun 2021 Pasal 83 Ayat 2', 'UU PP No 7 Tahun 2021 Pasal 84', 'UU PP No 7 Tahun 2021 Pasal 84 Ayat 1', 'UU PP No 7 Tahun 2021 Pasal 84 Ayat 2', 'UU PP No 7 Tahun 2021 Pasal 84 Ayat 3', 'UU PP No 7 Tahun 2021 Pasal 85', 'UU PP No 7 Tahun 2021 Pasal 85 Ayat 1', 'UU PP No 7 Tahun 2021 Pasal 85 Ayat 2', 'UU PP No 7 Tahun 2021 Pasal 85 Ayat 3', 'UU PP No 7 Tahun 2021 Pasal 85 Ayat 4', 'UU PP No 7 Tahun 2021 Pasal 85 Ayat 5', 'UU PP No 7 Tahun 2021 Pasal 85 Ayat 6', 'UU PP No 7 Tahun 2021 Pasal 85 Ayat 7', 'UU PP No 7 Tahun 2021 Pasal 86', 'UU PP No 7 Tahun 2021 Pasal 86 Ayat 1', 'UU PP No 7 Tahun 2021 Pasal 86 Ayat 2', 'UU PP No 7 Tahun 2021 Pasal 86 Ayat 3', 'UU PP No 7 Tahun 2021 Pasal 87', 'UU PP No 7 Tahun 2021 Pasal 87 Ayat 1', 'UU PP No 7 Tahun 2021 Pasal 88', 'UU PP No 7 Tahun 2021 Pasal 88 Ayat 1', 'UU PP No 7 Tahun 2021 Pasal 88 Ayat 2', 'UU PP No 7 Tahun 2021 Pasal 88 Ayat 3', 'UU PP No 7 Tahun 2021 Pasal 88 Ayat 4', 'UU PP No 7 Tahun 2021 Pasal 88 Ayat 5', 'UU PP No 7 Tahun 2021 Pasal 89', 'UU PP No 7 Tahun 2021 Pasal 89 Ayat 1', 'UU PP No 7 Tahun 2021 Pasal 89 Ayat 2', 'UU PP No 7 Tahun 2021 Pasal 9', 'UU PP No 7 Tahun 2021 Pasal 9 Ayat 1', 'UU PP No 7 Tahun 2021 Pasal 9 Ayat 2', 'UU PP No 7 Tahun 2021 Pasal 9 Ayat 3', 'UU PP No 7 Tahun 2021 Pasal 9 Ayat 4', 'UU PP No 7 Tahun 2021 Pasal 9 Ayat 5', 'UU PP No 7 Tahun 2021 Pasal 90', 'UU PP No 7 Tahun 2021 Pasal 90 Ayat 1', 'UU PP No 7 Tahun 2021 Pasal 90 Ayat 2', 'UU PP No 7 Tahun 2021 Pasal 90 Ayat 3', 'UU PP No 7 Tahun 2021 Pasal 91', 'UU PP No 7 Tahun 2021 Pasal 91 Ayat 1', 'UU PP No 7 Tahun 2021 Pasal 91 Ayat 2', 'UU PP No 7 Tahun 2021 Pasal 91 Ayat 3', 'UU PP No 7 Tahun 2021 Pasal 92', 'UU PP No 7 Tahun 2021 Pasal 92 Ayat 1', 'UU PP No 7 Tahun 2021 Pasal 92 Ayat 2', 'UU PP No 7 Tahun 2021 Pasal 92 Ayat 3', 'UU PP No 7 Tahun 2021 Pasal 92 Ayat 4', 'UU PP No 7 Tahun 2021 Pasal 93', 'UU PP No 7 Tahun 2021 Pasal 93 Ayat 1', 'UU PP No 7 Tahun 2021 Pasal 94', 'UU PP No 7 Tahun 2021 Pasal 94 Ayat 1', 'UU PP No 7 Tahun 2021 Pasal 94 Ayat 2', 'UU PP No 7 Tahun 2021 Pasal 95', 'UU PP No 7 Tahun 2021 Pasal 95 Ayat 1', 'UU PP No 7 Tahun 2021 Pasal 95 Ayat 2', 'UU PP No 7 Tahun 2021 Pasal 95 Ayat 3', 'UU PP No 7 Tahun 2021 Pasal 95 Ayat 4', 'UU PP No 7 Tahun 2021 Pasal 96', 'UU PP No 7 Tahun 2021 Pasal 96 Ayat 1', 'UU PP No 7 Tahun 2021 Pasal 96 Ayat 2', 'UU PP No 7 Tahun 2021 Pasal 96 Ayat 3', 'UU PP No 7 Tahun 2021 Pasal 96 Ayat 4', 'UU PP No 7 Tahun 2021 Pasal 96 Ayat 5', 'UU PP No 7 Tahun 2021 Pasal 97', 'UU PP No 7 Tahun 2021 Pasal 97 Ayat 1', 'UU PP No 7 Tahun 2021 Pasal 97 Ayat 2', 'UU PP No 7 Tahun 2021 Pasal 97 Ayat 3', 'UU PP No 7 Tahun 2021 Pasal 98', 'UU PP No 7 Tahun 2021 Pasal 98 Ayat 1', 'UU PP No 7 Tahun 2021 Pasal 99', 'UU PP No 7 Tahun 2021 Pasal 99 Ayat 1', 'UU PP No 7 Tahun 2021 Pasal 99 Ayat 2', 'UU PerPres No 2 Tahun 2022 Pasal 1', 'UU PerPres No 2 Tahun 2022 Pasal 1 Ayat 1', 'UU PerPres No 2 Tahun 2022 Pasal 2', 'UU PerPres No 2 Tahun 2022 Pasal 2 Ayat 1', 'UU PerPres No 2 Tahun 2022 Pasal 3', 'UU PerPres No 2 Tahun 2022 Pasal 3 Ayat 1', 'UU PerPres No 2 Tahun 2022 Pasal 4', 'UU PerPres No 2 Tahun 2022 Pasal 4 Ayat 1', 'UU PerPres No 2 Tahun 2022 Pasal 4 Ayat 2', 'UU PerPres No 2 Tahun 2022 Pasal 4 Ayat 3', 'UU PerPres No 2 Tahun 2022 Pasal 5', 'UU PerPres No 2 Tahun 2022 Pasal 5 Ayat 1', 'UU PerPres No 2 Tahun 2022 Pasal 5 Ayat 2', 'UU PerPres No 2 Tahun 2022 Pasal 5 Ayat 3', 'UU PerPres No 49 Tahun 2021 Pasal 2', 'UU PerPres No 49 Tahun 2021 Pasal 2 Ayat 1', 'UU PerPres No 49 Tahun 2021 Pasal 2 Ayat 2', 'UU PerPres No 49 Tahun 2021 Pasal 2 Ayat 3', 'UU PerPres No 49 Tahun 2021 Pasal 6', 'UU PerPres No 49 Tahun 2021 Pasal 6 Ayat 1', 'UU PerPres No 49 Tahun 2021 Pasal 6 Ayat 2', 'UU PerPres No 49 Tahun 2021 Pasal 6 Ayat 3', 'UU PerPres No 49 Tahun 2021 Pasal 6 Ayat 4', 'UU PerPres No 49 Tahun 2021 Pasal 6 Ayat 5', 'UU Permenkop No 2 Tahun 2022 Pasal 1', 'UU Permenkop No 2 Tahun 2022 Pasal 1 Ayat 1', 'UU Permenkop No 2 Tahun 2022 Pasal 2', 'UU Permenkop No 2 Tahun 2022 Pasal 2 Ayat 1', 'UU Permenkop No 2 Tahun 2022 Pasal 3', 'UU Permenkop No 2 Tahun 2022 Pasal 3 Ayat 1', 'UU Permenkop No 2 Tahun 2022 Pasal 3 Ayat 2', 'UU Permenkop No 2 Tahun 2022 Pasal 3 Ayat 3', 'UU Permenkop No 2 Tahun 2022 Pasal 3 Ayat 4', 'UU Permenkop No 2 Tahun 2022 Pasal 4', 'UU Permenkop No 2 Tahun 2022 Pasal 4 Ayat 1', 'UU Permenkop No 2 Tahun 2022 Pasal 4 Ayat 2', 'UU Permenkop No 2 Tahun 2022 Pasal 4 Ayat 3', 'UU Permenkop No 2 Tahun 2022 Pasal 4 Ayat 4', 'UU Permenkop No 2 Tahun 2022 Pasal 4 Ayat 5', 'UU Permenkop No 2 Tahun 2022 Pasal 4 Ayat 6', 'UU Permenkop No 2 Tahun 2022 Pasal 5', 'UU Permenkop No 2 Tahun 2022 Pasal 5 Ayat 1', 'UU Permenkop No 6 Tahun 2021 Pasal 1', 'UU Permenkop No 6 Tahun 2021 Pasal 1 Ayat 1', 'UU Permenkop No 6 Tahun 2021 Pasal 2', 'UU Permenkop No 6 Tahun 2021 Pasal 2 Ayat 1', 'UU Permenkop No 6 Tahun 2021 Pasal 3', 'UU Permenkop No 6 Tahun 2021 Pasal 3 Ayat 1', 'UU Permenkop No 6 Tahun 2021 Pasal 3 Ayat 2', 'UU Permenkop No 6 Tahun 2021 Pasal 3 Ayat 3', 'UU Permenkop No 6 Tahun 2021 Pasal 4', 'UU Permenkop No 6 Tahun 2021 Pasal 4 Ayat 1', 'UU Permenkop No 6 Tahun 2021 Pasal 5', 'UU Permenkop No 6 Tahun 2021 Pasal 5 Ayat 1', 'UU Permenkop No 6 Tahun 2021 Pasal 6', 'UU Permenkop No 6 Tahun 2021 Pasal 6 Ayat 1', 'UU Permenkop No 6 Tahun 2021 Pasal 7', 'UU Permenkop No 6 Tahun 2021 Pasal 7 Ayat 1', 'UU Permenkop No 6 Tahun 2021 Pasal 8', 'UU Permenkop No 6 Tahun 2021 Pasal 8 Ayat 1', 'UU Permenkop No 8 Tahun 2021 Pasal 1', 'UU Permenkop No 8 Tahun 2021 Pasal 1 Ayat 1', 'UU Permenkop No 8 Tahun 2021 Pasal 10', 'UU Permenkop No 8 Tahun 2021 Pasal 10 Ayat 1', 'UU Permenkop No 8 Tahun 2021 Pasal 10 Ayat 2', 'UU Permenkop No 8 Tahun 2021 Pasal 10 Ayat 3', 'UU Permenkop No 8 Tahun 2021 Pasal 10 Ayat 4', 'UU Permenkop No 8 Tahun 2021 Pasal 11', 'UU Permenkop No 8 Tahun 2021 Pasal 11 Ayat 1', 'UU Permenkop No 8 Tahun 2021 Pasal 11 Ayat 2', 'UU Permenkop No 8 Tahun 2021 Pasal 11 Ayat 3', 'UU Permenkop No 8 Tahun 2021 Pasal 11 Ayat 4', 'UU Permenkop No 8 Tahun 2021 Pasal 12', 'UU Permenkop No 8 Tahun 2021 Pasal 12 Ayat 1', 'UU Permenkop No 8 Tahun 2021 Pasal 12 Ayat 2', 'UU Permenkop No 8 Tahun 2021 Pasal 12 Ayat 3', 'UU Permenkop No 8 Tahun 2021 Pasal 13', 'UU Permenkop No 8 Tahun 2021 Pasal 13 Ayat 1', 'UU Permenkop No 8 Tahun 2021 Pasal 14', 'UU Permenkop No 8 Tahun 2021 Pasal 14 Ayat 1', 'UU Permenkop No 8 Tahun 2021 Pasal 14 Ayat 2', 'UU Permenkop No 8 Tahun 2021 Pasal 14 Ayat 3', 'UU Permenkop No 8 Tahun 2021 Pasal 14 Ayat 4', 'UU Permenkop No 8 Tahun 2021 Pasal 15', 'UU Permenkop No 8 Tahun 2021 Pasal 15 Ayat 1', 'UU Permenkop No 8 Tahun 2021 Pasal 16', 'UU Permenkop No 8 Tahun 2021 Pasal 16 Ayat 1', 'UU Permenkop No 8 Tahun 2021 Pasal 17', 'UU Permenkop No 8 Tahun 2021 Pasal 17 Ayat 1', 'UU Permenkop No 8 Tahun 2021 Pasal 17 Ayat 2', 'UU Permenkop No 8 Tahun 2021 Pasal 18', 'UU Permenkop No 8 Tahun 2021 Pasal 18 Ayat 1', 'UU Permenkop No 8 Tahun 2021 Pasal 2', 'UU Permenkop No 8 Tahun 2021 Pasal 2 Ayat 1', 'UU Permenkop No 8 Tahun 2021 Pasal 3', 'UU Permenkop No 8 Tahun 2021 Pasal 3 Ayat 1', 'UU Permenkop No 8 Tahun 2021 Pasal 3 Ayat 2', 'UU Permenkop No 8 Tahun 2021 Pasal 4', 'UU Permenkop No 8 Tahun 2021 Pasal 4 Ayat 1', 'UU Permenkop No 8 Tahun 2021 Pasal 4 Ayat 2', 'UU Permenkop No 8 Tahun 2021 Pasal 4 Ayat 3', 'UU Permenkop No 8 Tahun 2021 Pasal 5', 'UU Permenkop No 8 Tahun 2021 Pasal 5 Ayat 1', 'UU Permenkop No 8 Tahun 2021 Pasal 5 Ayat 2', 'UU Permenkop No 8 Tahun 2021 Pasal 6', 'UU Permenkop No 8 Tahun 2021 Pasal 6 Ayat 1', 'UU Permenkop No 8 Tahun 2021 Pasal 6 Ayat 2', 'UU Permenkop No 8 Tahun 2021 Pasal 6 Ayat 3', 'UU Permenkop No 8 Tahun 2021 Pasal 7', 'UU Permenkop No 8 Tahun 2021 Pasal 7 Ayat 1', 'UU Permenkop No 8 Tahun 2021 Pasal 7 Ayat 2', 'UU Permenkop No 8 Tahun 2021 Pasal 7 Ayat 3', 'UU Permenkop No 8 Tahun 2021 Pasal 8', 'UU Permenkop No 8 Tahun 2021 Pasal 8 Ayat 1', 'UU Permenkop No 8 Tahun 2021 Pasal 9', 'UU Permenkop No 8 Tahun 2021 Pasal 9 Ayat 1', 'UU Permenkop No 8 Tahun 2021 Pasal 9 Ayat 10', 'UU Permenkop No 8 Tahun 2021 Pasal 9 Ayat 2', 'UU Permenkop No 8 Tahun 2021 Pasal 9 Ayat 3', 'UU Permenkop No 8 Tahun 2021 Pasal 9 Ayat 4', 'UU Permenkop No 8 Tahun 2021 Pasal 9 Ayat 5', 'UU Permenkop No 8 Tahun 2021 Pasal 9 Ayat 6', 'UU Permenkop No 8 Tahun 2021 Pasal 9 Ayat 7', 'UU Permenkop No 8 Tahun 2021 Pasal 9 Ayat 8', 'UU Permenkop No 8 Tahun 2021 Pasal 9 Ayat 9', 'UU Permenperin No 26 Tahun 2021 Pasal 1 Ayat 1', 'UU Permenperin No 26 Tahun 2021 Pasal 10C Ayat 1', 'UU Permenperin No 26 Tahun 2021 Pasal 18A Ayat 1', 'UU Permenperin No 26 Tahun 2021 Pasal 18C Ayat 1', 'UU Permenperin No 26 Tahun 2021 Pasal 18C Ayat 2', 'UU Permenperin No 26 Tahun 2021 Pasal 18C Ayat 3', 'UU Permenperin No 26 Tahun 2021 Pasal 3 Ayat 1', 'UU Permenperin No 26 Tahun 2022 Pasal 1', 'UU Permenperin No 26 Tahun 2022 Pasal 10C', 'UU Permenperin No 26 Tahun 2022 Pasal 18A', 'UU Permenperin No 26 Tahun 2022 Pasal 18C', 'UU Permenperin No 26 Tahun 2022 Pasal 3']\n"
          ]
        }
      ]
    },
    {
      "cell_type": "markdown",
      "source": [
        "**Tokenization**"
      ],
      "metadata": {
        "id": "fg2wOG2xOY7F"
      }
    },
    {
      "cell_type": "markdown",
      "source": [
        "\n",
        "After the lemmatization process and exploring the classes data along with the total number of patterns data with their intents, the next step is the tokenization process.\n",
        "\n",
        "**What is Tokenization?**\n",
        "\n",
        "Tokenization is a process of breaking down a sequence of characters and a defined document unit. It is also a task of dividing sentences into parts called **'Tokens'** and removing specific elements such as punctuation."
      ],
      "metadata": {
        "id": "WsOF9XiBOwFu"
      }
    },
    {
      "cell_type": "code",
      "source": [
        "# Tokenize the data (Tokenization)\n",
        "tokenizer = Tokenizer(num_words=5000)\n",
        "tokenizer.fit_on_texts(data['patterns'])\n",
        "train = tokenizer.texts_to_sequences(data['patterns'])"
      ],
      "metadata": {
        "id": "ajydN3pkRw5R"
      },
      "execution_count": 11,
      "outputs": []
    },
    {
      "cell_type": "markdown",
      "source": [
        "**Padding, Encoding Text, Input Lenght, Output Lenght and Vocabulary**"
      ],
      "metadata": {
        "id": "1_TBuD2EO6xf"
      }
    },
    {
      "cell_type": "markdown",
      "source": [
        "**What is Padding?**\n",
        "\n",
        "**Padding** is a process to make each sequence have the same length. In padding, each sequence is made of equal length by adding 0 values either as suffix or prefix until it reaches the maximum sequence length. Additionally, padding can also truncate sequences to match the maximum sequence length.\n",
        "\n",
        "**What is Encoding?**\n",
        "\n",
        "**Encoding** is a conversion process where categorical data such as letters or text data is transformed into numerical or numeric data corresponding to the label data used. In this stage, encoding converts text data in the 'tags' column into numeric data using the binary language of computers, namely 0 and 1.\n",
        "\n",
        "\n",
        "\n",
        "\n",
        "\n"
      ],
      "metadata": {
        "id": "P-NQZ6x5PgJX"
      }
    },
    {
      "cell_type": "code",
      "source": [
        "# Performing padding on the data\n",
        "x_train = pad_sequences(train)\n",
        "\n",
        "# Converting label tags data with encoding\n",
        "le = LabelEncoder()\n",
        "y_train = le.fit_transform(data['tags'])\n",
        "\n",
        "# Checking the input result on text data\n",
        "input_shape = x_train.shape[1]\n",
        "\n",
        "# Defining each sentence and word in the text data\n",
        "vocabulary = len(tokenizer.word_index)\n",
        "print(\"Number of unique words: \", vocabulary)\n",
        "\n",
        "# Checking the examination on the output label text data\n",
        "output_length = le.classes_.shape[0]\n",
        "print(\"Output length: \", output_length)\n",
        "\n",
        "# Splitting the data into training (80%) and test sets (20%)\n",
        "x_train, x_val, y_train, y_val = train_test_split(x_train, y_train, test_size=0.2, random_state=42)\n"
      ],
      "metadata": {
        "id": "_gbQfC0yR2Pg",
        "colab": {
          "base_uri": "https://localhost:8080/"
        },
        "outputId": "f52a073b-acd3-4945-8448-efc5f1e34bd7"
      },
      "execution_count": 12,
      "outputs": [
        {
          "output_type": "stream",
          "name": "stdout",
          "text": [
            "Number of unique words:  1777\n",
            "Output length:  963\n"
          ]
        }
      ]
    },
    {
      "cell_type": "markdown",
      "source": [
        "**Save Model Words, Classes, Label Encoder, Tokenizer**"
      ],
      "metadata": {
        "id": "SkfhFOOsP5gM"
      }
    },
    {
      "cell_type": "code",
      "source": [
        "# Saving processed data using Pickle\n",
        "pickle.dump(words, open('words.pkl', 'wb'))  # Save the 'words' list\n",
        "pickle.dump(classes, open('classes.pkl', 'wb'))  # Save the 'classes' list\n",
        "pickle.dump(le, open('le.pkl', 'wb'))  # Save the LabelEncoder object\n",
        "pickle.dump(tokenizer, open('tokenizer.pkl', 'wb'))  # Save the Tokenizer object"
      ],
      "metadata": {
        "id": "dN6teTXwlWlg"
      },
      "execution_count": 13,
      "outputs": []
    },
    {
      "cell_type": "markdown",
      "source": [
        "# **Long Short Term Memory (LSTM) Model**"
      ],
      "metadata": {
        "id": "CpodN138QQe5"
      }
    },
    {
      "cell_type": "markdown",
      "source": [
        "**What is the LSTM Algorithm?**\n",
        "\n",
        "**LSTM (Long Short-Term Memory)** is a popular Deep Learning algorithm suitable for making predictions and classifications related to time and text data.\n",
        "\n",
        "This algorithm can be considered a development or a type of Recurrent Neural Network (RNN) algorithm. In the RNN algorithm, the output from the last step is fed back as input to the current step. However, RNN has a limitation in predicting words stored in long-term memory.\n",
        "\n",
        "LSTM addresses this limitation by introducing a more complex structure that allows the model to capture and remember long-term dependencies in data. It is particularly effective for tasks involving sequential and time-series data, making it widely used in natural language processing and other related domains.\n"
      ],
      "metadata": {
        "id": "cfzYm-jDQfRk"
      }
    },
    {
      "cell_type": "code",
      "source": [
        "# Creating the model with fine-tuning\n",
        "i = Input(shape=(input_shape,))\n",
        "x = Embedding(vocabulary + 1, 50)(i)  # Increased embedding size\n",
        "x = LSTM(50, return_sequences=True, recurrent_dropout=0.5)(x)  # Increased units and adjusted dropout rate\n",
        "x = Flatten()(x)\n",
        "x = Dense(output_length, activation=\"softmax\")(x)\n",
        "model = Model(i, x)"
      ],
      "metadata": {
        "id": "I9K4o3i6R2SX",
        "colab": {
          "base_uri": "https://localhost:8080/"
        },
        "outputId": "991ca420-5c24-4158-8a2a-6053372ffa24"
      },
      "execution_count": 14,
      "outputs": [
        {
          "output_type": "stream",
          "name": "stderr",
          "text": [
            "WARNING:tensorflow:Layer lstm will not use cuDNN kernels since it doesn't meet the criteria. It will use a generic GPU kernel as fallback when running on GPU.\n"
          ]
        }
      ]
    },
    {
      "cell_type": "code",
      "source": [
        "# Adjusted optimizer learning rate\n",
        "optimizer = tf.keras.optimizers.Adam(learning_rate=0.001)\n",
        "model.compile(loss=\"sparse_categorical_crossentropy\", optimizer=optimizer, metrics=['accuracy'])"
      ],
      "metadata": {
        "id": "plXGWJvaR2Ut"
      },
      "execution_count": 15,
      "outputs": []
    },
    {
      "cell_type": "code",
      "source": [
        "# Define early stopping\n",
        "early_stop = tf.keras.callbacks.EarlyStopping(monitor='val_loss', patience=10, restore_best_weights=True)"
      ],
      "metadata": {
        "id": "lnnxTVzhR2Xg"
      },
      "execution_count": 16,
      "outputs": []
    },
    {
      "cell_type": "code",
      "source": [
        "class myCallback(tf.keras.callbacks.Callback):\n",
        "    # Define the method that checks the accuracy at the end of each epoch\n",
        "    def on_epoch_end(self, epoch, logs={}):\n",
        "        if logs.get('accuracy') > 0.95:\n",
        "            print(\"\\nReached 0.95 accuracy so cancelling training!\")\n",
        "\n",
        "            # Stop training once the above condition is met\n",
        "            self.model.stop_training = True"
      ],
      "metadata": {
        "id": "PPtag54KSD2d"
      },
      "execution_count": 17,
      "outputs": []
    },
    {
      "cell_type": "code",
      "source": [
        "# Instantiate the callback class\n",
        "cb = myCallback()"
      ],
      "metadata": {
        "id": "0UBvNUa4R2aG"
      },
      "execution_count": 18,
      "outputs": []
    },
    {
      "cell_type": "code",
      "source": [
        "# Training the model with fine-tuning and early stopping using training data as validation\n",
        "train = model.fit(x_train, y_train, epochs=1000, batch_size=16, validation_data=(x_train, y_train), callbacks=[cb, early_stop])\n"
      ],
      "metadata": {
        "id": "gC_Vilw7R2c0",
        "colab": {
          "base_uri": "https://localhost:8080/"
        },
        "outputId": "ae4ae3d0-2d10-4ac2-fec4-9be4e550b915"
      },
      "execution_count": 19,
      "outputs": [
        {
          "output_type": "stream",
          "name": "stdout",
          "text": [
            "Epoch 1/1000\n",
            "200/200 [==============================] - 52s 223ms/step - loss: 6.8003 - accuracy: 0.0088 - val_loss: 6.3239 - val_accuracy: 0.0176\n",
            "Epoch 2/1000\n",
            "200/200 [==============================] - 33s 163ms/step - loss: 6.0357 - accuracy: 0.0207 - val_loss: 5.1983 - val_accuracy: 0.0492\n",
            "Epoch 3/1000\n",
            "200/200 [==============================] - 34s 172ms/step - loss: 5.1688 - accuracy: 0.0499 - val_loss: 4.2687 - val_accuracy: 0.1615\n",
            "Epoch 4/1000\n",
            "200/200 [==============================] - 33s 168ms/step - loss: 4.3099 - accuracy: 0.1267 - val_loss: 3.3120 - val_accuracy: 0.3297\n",
            "Epoch 5/1000\n",
            "200/200 [==============================] - 33s 165ms/step - loss: 3.4129 - accuracy: 0.2622 - val_loss: 2.4390 - val_accuracy: 0.4922\n",
            "Epoch 6/1000\n",
            "200/200 [==============================] - 31s 156ms/step - loss: 2.6189 - accuracy: 0.4115 - val_loss: 1.7970 - val_accuracy: 0.6380\n",
            "Epoch 7/1000\n",
            "200/200 [==============================] - 32s 158ms/step - loss: 2.0026 - accuracy: 0.5439 - val_loss: 1.3759 - val_accuracy: 0.7315\n",
            "Epoch 8/1000\n",
            "200/200 [==============================] - 32s 163ms/step - loss: 1.5544 - accuracy: 0.6468 - val_loss: 1.0331 - val_accuracy: 0.7967\n",
            "Epoch 9/1000\n",
            "200/200 [==============================] - 31s 156ms/step - loss: 1.1999 - accuracy: 0.7271 - val_loss: 0.7713 - val_accuracy: 0.8711\n",
            "Epoch 10/1000\n",
            "200/200 [==============================] - 31s 155ms/step - loss: 0.9264 - accuracy: 0.8036 - val_loss: 0.5998 - val_accuracy: 0.9162\n",
            "Epoch 11/1000\n",
            "200/200 [==============================] - 32s 159ms/step - loss: 0.7314 - accuracy: 0.8557 - val_loss: 0.4568 - val_accuracy: 0.9460\n",
            "Epoch 12/1000\n",
            "200/200 [==============================] - 34s 171ms/step - loss: 0.5689 - accuracy: 0.9078 - val_loss: 0.3486 - val_accuracy: 0.9655\n",
            "Epoch 13/1000\n",
            "200/200 [==============================] - 33s 163ms/step - loss: 0.4555 - accuracy: 0.9379 - val_loss: 0.2785 - val_accuracy: 0.9771\n",
            "Epoch 14/1000\n",
            "200/200 [==============================] - ETA: 0s - loss: 0.3541 - accuracy: 0.9577\n",
            "Reached 0.95 accuracy so cancelling training!\n",
            "200/200 [==============================] - 31s 154ms/step - loss: 0.3541 - accuracy: 0.9577 - val_loss: 0.2259 - val_accuracy: 0.9809\n"
          ]
        }
      ]
    },
    {
      "cell_type": "markdown",
      "source": [
        "#**Evaluation Model Analysis**"
      ],
      "metadata": {
        "id": "GOnnXb2aQp-2"
      }
    },
    {
      "cell_type": "code",
      "source": [
        "# Plotting model Accuracy and Loss\n",
        "plt.figure(figsize=(14, 5))\n",
        "\n",
        "# Subplot for Accuracy\n",
        "plt.subplot(1, 2, 1)\n",
        "plt.plot(train.history['accuracy'], label='Training Set Accuracy')\n",
        "plt.plot(train.history['val_accuracy'], label='Validation Set Accuracy')\n",
        "plt.legend(loc='lower right')\n",
        "plt.title('Accuracy')\n",
        "\n",
        "# Subplot for Loss\n",
        "plt.subplot(1, 2, 2)\n",
        "plt.plot(train.history['loss'], label='Training Set Loss')\n",
        "plt.plot(train.history['val_loss'], label='Validation Set Loss')\n",
        "plt.legend(loc='upper right')\n",
        "plt.title('Loss')\n",
        "\n",
        "# Show the plots\n",
        "plt.show()\n"
      ],
      "metadata": {
        "id": "0O12pUyeSFP3",
        "colab": {
          "base_uri": "https://localhost:8080/",
          "height": 468
        },
        "outputId": "7b5935cc-9090-4913-998c-71c98618196b"
      },
      "execution_count": 20,
      "outputs": [
        {
          "output_type": "display_data",
          "data": {
            "text/plain": [
              "<Figure size 1400x500 with 2 Axes>"
            ],
            "image/png": "[encoded data removed]"
          },
          "metadata": {}
        }
      ]
    },
    {
      "cell_type": "markdown",
      "source": [
        "#**Testing Chatbot**"
      ],
      "metadata": {
        "id": "VITg_aNgQwPX"
      }
    },
    {
      "cell_type": "code",
      "source": [
        "# Membuat Input Chat\n",
        "while True:\n",
        "  texts_p = []\n",
        "  prediction_input = input('👨‍🦰 Kamu : ')\n",
        "\n",
        "  # Menghapus punktuasi atau tanda baca dan konversi ke huruf kecil\n",
        "  prediction_input = [letters.lower() for letters in prediction_input if letters not in string.punctuation]\n",
        "  prediction_input = ''.join(prediction_input)\n",
        "  texts_p.append(prediction_input)\n",
        "\n",
        "  # Melakukan Tokenisasi dan Padding pada data teks\n",
        "  prediction_input = tokenizer.texts_to_sequences(texts_p)\n",
        "  # Konversi data teks menjadi array\n",
        "  prediction_input = np.array(prediction_input).reshape(-1)\n",
        "  prediction_input = pad_sequences([prediction_input],input_shape)\n",
        "\n",
        "  # Mendapatkan hasil prediksi keluaran pada model\n",
        "  output = model.predict(prediction_input)\n",
        "  output = output.argmax()\n",
        "\n",
        "  # Menemukan respon sesuai data tag dan memainkan suara bot\n",
        "  response_tag = le.inverse_transform([output])[0]\n",
        "  text = random.choice(responses[response_tag])\n",
        "  print(\"🤖 Chatbot : \", text)\n",
        "  # Tambahkan respon 'goodbye' agar bot bisa berhenti melakukan percakapan\n",
        "  if response_tag == \"Goodbye\":\n",
        "    break"
      ],
      "metadata": {
        "id": "OHSdhSf6S264",
        "colab": {
          "base_uri": "https://localhost:8080/"
        },
        "outputId": "edbdc2f6-8245-4a68-dcec-c81345b0d473"
      },
      "execution_count": 21,
      "outputs": [
        {
          "output_type": "stream",
          "name": "stdout",
          "text": [
            "👨‍🦰 Kamu : Jelaskan apa yang dimaksud dengan koperasi\n",
            "1/1 [==============================] - 0s 263ms/step\n",
            "🤖 Chatbot :  Koperasi adalah badan usaha yang beranggotakan orang nseorang atau badan hukum Koperasi dengan melandaskan nkegiatannya berdasarkan prinsip Koperasi sekaligus nsebagai gerakan ekonomi rakyat yang berdasar atas asas nkekeluargaan.\n",
            "👨‍🦰 Kamu : Mohon berikan informasi mengenai isi dari UU PP No 7 Tahun 2021 Pasal 68.\n",
            "1/1 [==============================] - 0s 29ms/step\n",
            "🤖 Chatbot :  UU PP No 7 Tahun 2021 Pasal 68 Berbunyi (1) Pemerintah Pusat mendorong implementasi pengelolaan\n",
            "terpadu Usaha Mikro dan Usaha Kecil.\n",
            "(2) Pengelolaan terpadu Usaha Mikro dan Usaha Kecil\n",
            "sebagaimana dimaksud pada ayat (1) diimplementasikan\n",
            "secara bersinergi oleh Pemerintah Pusat, Pemerintah\n",
            "Daerah, dan pemangku kepentingan terkait melalui\n",
            "penataan klaster.\n",
            "👨‍🦰 Kamu : Mengapa target pasar menjadi elemen kritis dalam perencanaan bisnis?\n",
            "1/1 [==============================] - 0s 46ms/step\n",
            "🤖 Chatbot :  Menetapkan target pasar dengan cermat membantu bisnis fokus pada segmen konsumen yang paling potensial, meningkatkan efisiensi pemasaran, dan memperkuat proposisi nilai.\n",
            "👨‍🦰 Kamu : Bagaimana menentukan skala produksi yang tepat?\n",
            "1/1 [==============================] - 0s 29ms/step\n",
            "🤖 Chatbot :  Menentukan skala produksi yang tepat memerlukan analisis permintaan pasar, optimasi rantai pasokan, dan pemantauan efisiensi operasional.\n",
            "👨‍🦰 Kamu : dah\n",
            "1/1 [==============================] - 0s 29ms/step\n",
            "🤖 Chatbot :  Dadahh!\n"
          ]
        }
      ]
    },
    {
      "cell_type": "markdown",
      "source": [
        "#**Save The Model**"
      ],
      "metadata": {
        "id": "E032lGb2Q2Y_"
      }
    },
    {
      "cell_type": "code",
      "source": [
        "# Simpan model dalam bentuk format file .h5 atau .pkl (pickle)\n",
        "model.save('Model_Chatbot.h5')\n",
        "\n",
        "print('Model Created Successfully!')"
      ],
      "metadata": {
        "id": "w5P0-DAjXw14",
        "colab": {
          "base_uri": "https://localhost:8080/"
        },
        "outputId": "84b003c8-1a7f-4158-a08c-f8b8d13dbfb0"
      },
      "execution_count": 22,
      "outputs": [
        {
          "output_type": "stream",
          "name": "stdout",
          "text": [
            "Model Created Successfully!\n"
          ]
        },
        {
          "output_type": "stream",
          "name": "stderr",
          "text": [
            "/usr/local/lib/python3.10/dist-packages/keras/src/engine/training.py:3103: UserWarning: You are saving your model as an HDF5 file via `model.save()`. This file format is considered legacy. We recommend using instead the native Keras format, e.g. `model.save('my_model.keras')`.\n",
            "  saving_api.save_model(\n"
          ]
        }
      ]
    },
    {
      "cell_type": "code",
      "source": [],
      "metadata": {
        "id": "ubhhg-7O0tzg"
      },
      "execution_count": 22,
      "outputs": []
    }
  ]
}